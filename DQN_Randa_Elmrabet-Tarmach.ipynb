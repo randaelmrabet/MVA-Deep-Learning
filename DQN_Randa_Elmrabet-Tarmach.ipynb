{
  "nbformat": 4,
  "nbformat_minor": 0,
  "metadata": {
    "kernelspec": {
      "name": "python3",
      "display_name": "Python 3"
    },
    "language_info": {
      "codemirror_mode": {
        "name": "ipython",
        "version": 3
      },
      "file_extension": ".py",
      "mimetype": "text/x-python",
      "name": "python",
      "nbconvert_exporter": "python",
      "pygments_lexer": "ipython3",
      "version": "3.5.7"
    },
    "colab": {
      "name": "Copie de DQN_project_MVA.ipynb",
      "provenance": [],
      "collapsed_sections": [
        "NgJ68ljo7a3a",
        "VQz0SN857a3t"
      ]
    },
    "accelerator": "GPU"
  },
  "cells": [
    {
      "cell_type": "markdown",
      "metadata": {
        "id": "dXetLTz67a3I",
        "colab_type": "text"
      },
      "source": [
        "**You may need to install [OpenCV](https://pypi.python.org/pypi/opencv-python) and [scikit-video](http://www.scikit-video.org/stable/).**"
      ]
    },
    {
      "cell_type": "code",
      "metadata": {
        "id": "_Gu9Ys_a7167",
        "colab_type": "code",
        "outputId": "4ca7d903-bd9d-434f-b9c6-5bebb644e842",
        "colab": {
          "base_uri": "https://localhost:8080/",
          "height": 173
        }
      },
      "source": [
        "!pip install scikit-video"
      ],
      "execution_count": 0,
      "outputs": [
        {
          "output_type": "stream",
          "text": [
            "Collecting scikit-video\n",
            "\u001b[?25l  Downloading https://files.pythonhosted.org/packages/b1/a6/c69cad508139a342810ae46e946ebb3256aa6e42f690d901bb68f50582e3/scikit_video-1.1.11-py2.py3-none-any.whl (2.3MB)\n",
            "\r\u001b[K     |▏                               | 10kB 19.3MB/s eta 0:00:01\r\u001b[K     |▎                               | 20kB 25.4MB/s eta 0:00:01\r\u001b[K     |▍                               | 30kB 28.9MB/s eta 0:00:01\r\u001b[K     |▋                               | 40kB 32.6MB/s eta 0:00:01\r\u001b[K     |▊                               | 51kB 35.7MB/s eta 0:00:01\r\u001b[K     |▉                               | 61kB 36.9MB/s eta 0:00:01\r\u001b[K     |█                               | 71kB 36.7MB/s eta 0:00:01\r\u001b[K     |█▏                              | 81kB 36.7MB/s eta 0:00:01\r\u001b[K     |█▎                              | 92kB 38.0MB/s eta 0:00:01\r\u001b[K     |█▌                              | 102kB 38.8MB/s eta 0:00:01\r\u001b[K     |█▋                              | 112kB 38.8MB/s eta 0:00:01\r\u001b[K     |█▊                              | 122kB 38.8MB/s eta 0:00:01\r\u001b[K     |██                              | 133kB 38.8MB/s eta 0:00:01\r\u001b[K     |██                              | 143kB 38.8MB/s eta 0:00:01\r\u001b[K     |██▏                             | 153kB 38.8MB/s eta 0:00:01\r\u001b[K     |██▎                             | 163kB 38.8MB/s eta 0:00:01\r\u001b[K     |██▌                             | 174kB 38.8MB/s eta 0:00:01\r\u001b[K     |██▋                             | 184kB 38.8MB/s eta 0:00:01\r\u001b[K     |██▊                             | 194kB 38.8MB/s eta 0:00:01\r\u001b[K     |███                             | 204kB 38.8MB/s eta 0:00:01\r\u001b[K     |███                             | 215kB 38.8MB/s eta 0:00:01\r\u001b[K     |███▏                            | 225kB 38.8MB/s eta 0:00:01\r\u001b[K     |███▍                            | 235kB 38.8MB/s eta 0:00:01\r\u001b[K     |███▌                            | 245kB 38.8MB/s eta 0:00:01\r\u001b[K     |███▋                            | 256kB 38.8MB/s eta 0:00:01\r\u001b[K     |███▉                            | 266kB 38.8MB/s eta 0:00:01\r\u001b[K     |████                            | 276kB 38.8MB/s eta 0:00:01\r\u001b[K     |████                            | 286kB 38.8MB/s eta 0:00:01\r\u001b[K     |████▏                           | 296kB 38.8MB/s eta 0:00:01\r\u001b[K     |████▍                           | 307kB 38.8MB/s eta 0:00:01\r\u001b[K     |████▌                           | 317kB 38.8MB/s eta 0:00:01\r\u001b[K     |████▋                           | 327kB 38.8MB/s eta 0:00:01\r\u001b[K     |████▉                           | 337kB 38.8MB/s eta 0:00:01\r\u001b[K     |█████                           | 348kB 38.8MB/s eta 0:00:01\r\u001b[K     |█████                           | 358kB 38.8MB/s eta 0:00:01\r\u001b[K     |█████▎                          | 368kB 38.8MB/s eta 0:00:01\r\u001b[K     |█████▍                          | 378kB 38.8MB/s eta 0:00:01\r\u001b[K     |█████▌                          | 389kB 38.8MB/s eta 0:00:01\r\u001b[K     |█████▊                          | 399kB 38.8MB/s eta 0:00:01\r\u001b[K     |█████▉                          | 409kB 38.8MB/s eta 0:00:01\r\u001b[K     |██████                          | 419kB 38.8MB/s eta 0:00:01\r\u001b[K     |██████                          | 430kB 38.8MB/s eta 0:00:01\r\u001b[K     |██████▎                         | 440kB 38.8MB/s eta 0:00:01\r\u001b[K     |██████▍                         | 450kB 38.8MB/s eta 0:00:01\r\u001b[K     |██████▌                         | 460kB 38.8MB/s eta 0:00:01\r\u001b[K     |██████▊                         | 471kB 38.8MB/s eta 0:00:01\r\u001b[K     |██████▉                         | 481kB 38.8MB/s eta 0:00:01\r\u001b[K     |███████                         | 491kB 38.8MB/s eta 0:00:01\r\u001b[K     |███████▏                        | 501kB 38.8MB/s eta 0:00:01\r\u001b[K     |███████▎                        | 512kB 38.8MB/s eta 0:00:01\r\u001b[K     |███████▍                        | 522kB 38.8MB/s eta 0:00:01\r\u001b[K     |███████▋                        | 532kB 38.8MB/s eta 0:00:01\r\u001b[K     |███████▊                        | 542kB 38.8MB/s eta 0:00:01\r\u001b[K     |███████▉                        | 552kB 38.8MB/s eta 0:00:01\r\u001b[K     |████████                        | 563kB 38.8MB/s eta 0:00:01\r\u001b[K     |████████▏                       | 573kB 38.8MB/s eta 0:00:01\r\u001b[K     |████████▎                       | 583kB 38.8MB/s eta 0:00:01\r\u001b[K     |████████▍                       | 593kB 38.8MB/s eta 0:00:01\r\u001b[K     |████████▋                       | 604kB 38.8MB/s eta 0:00:01\r\u001b[K     |████████▊                       | 614kB 38.8MB/s eta 0:00:01\r\u001b[K     |████████▉                       | 624kB 38.8MB/s eta 0:00:01\r\u001b[K     |█████████                       | 634kB 38.8MB/s eta 0:00:01\r\u001b[K     |█████████▏                      | 645kB 38.8MB/s eta 0:00:01\r\u001b[K     |█████████▎                      | 655kB 38.8MB/s eta 0:00:01\r\u001b[K     |█████████▌                      | 665kB 38.8MB/s eta 0:00:01\r\u001b[K     |█████████▋                      | 675kB 38.8MB/s eta 0:00:01\r\u001b[K     |█████████▊                      | 686kB 38.8MB/s eta 0:00:01\r\u001b[K     |█████████▉                      | 696kB 38.8MB/s eta 0:00:01\r\u001b[K     |██████████                      | 706kB 38.8MB/s eta 0:00:01\r\u001b[K     |██████████▏                     | 716kB 38.8MB/s eta 0:00:01\r\u001b[K     |██████████▎                     | 727kB 38.8MB/s eta 0:00:01\r\u001b[K     |██████████▌                     | 737kB 38.8MB/s eta 0:00:01\r\u001b[K     |██████████▋                     | 747kB 38.8MB/s eta 0:00:01\r\u001b[K     |██████████▊                     | 757kB 38.8MB/s eta 0:00:01\r\u001b[K     |███████████                     | 768kB 38.8MB/s eta 0:00:01\r\u001b[K     |███████████                     | 778kB 38.8MB/s eta 0:00:01\r\u001b[K     |███████████▏                    | 788kB 38.8MB/s eta 0:00:01\r\u001b[K     |███████████▍                    | 798kB 38.8MB/s eta 0:00:01\r\u001b[K     |███████████▌                    | 808kB 38.8MB/s eta 0:00:01\r\u001b[K     |███████████▋                    | 819kB 38.8MB/s eta 0:00:01\r\u001b[K     |███████████▊                    | 829kB 38.8MB/s eta 0:00:01\r\u001b[K     |████████████                    | 839kB 38.8MB/s eta 0:00:01\r\u001b[K     |████████████                    | 849kB 38.8MB/s eta 0:00:01\r\u001b[K     |████████████▏                   | 860kB 38.8MB/s eta 0:00:01\r\u001b[K     |████████████▍                   | 870kB 38.8MB/s eta 0:00:01\r\u001b[K     |████████████▌                   | 880kB 38.8MB/s eta 0:00:01\r\u001b[K     |████████████▋                   | 890kB 38.8MB/s eta 0:00:01\r\u001b[K     |████████████▉                   | 901kB 38.8MB/s eta 0:00:01\r\u001b[K     |█████████████                   | 911kB 38.8MB/s eta 0:00:01\r\u001b[K     |█████████████                   | 921kB 38.8MB/s eta 0:00:01\r\u001b[K     |█████████████▎                  | 931kB 38.8MB/s eta 0:00:01\r\u001b[K     |█████████████▍                  | 942kB 38.8MB/s eta 0:00:01\r\u001b[K     |█████████████▌                  | 952kB 38.8MB/s eta 0:00:01\r\u001b[K     |█████████████▋                  | 962kB 38.8MB/s eta 0:00:01\r\u001b[K     |█████████████▉                  | 972kB 38.8MB/s eta 0:00:01\r\u001b[K     |██████████████                  | 983kB 38.8MB/s eta 0:00:01\r\u001b[K     |██████████████                  | 993kB 38.8MB/s eta 0:00:01\r\u001b[K     |██████████████▎                 | 1.0MB 38.8MB/s eta 0:00:01\r\u001b[K     |██████████████▍                 | 1.0MB 38.8MB/s eta 0:00:01\r\u001b[K     |██████████████▌                 | 1.0MB 38.8MB/s eta 0:00:01\r\u001b[K     |██████████████▊                 | 1.0MB 38.8MB/s eta 0:00:01\r\u001b[K     |██████████████▉                 | 1.0MB 38.8MB/s eta 0:00:01\r\u001b[K     |███████████████                 | 1.1MB 38.8MB/s eta 0:00:01\r\u001b[K     |███████████████▏                | 1.1MB 38.8MB/s eta 0:00:01\r\u001b[K     |███████████████▎                | 1.1MB 38.8MB/s eta 0:00:01\r\u001b[K     |███████████████▍                | 1.1MB 38.8MB/s eta 0:00:01\r\u001b[K     |███████████████▌                | 1.1MB 38.8MB/s eta 0:00:01\r\u001b[K     |███████████████▊                | 1.1MB 38.8MB/s eta 0:00:01\r\u001b[K     |███████████████▉                | 1.1MB 38.8MB/s eta 0:00:01\r\u001b[K     |████████████████                | 1.1MB 38.8MB/s eta 0:00:01\r\u001b[K     |████████████████▏               | 1.1MB 38.8MB/s eta 0:00:01\r\u001b[K     |████████████████▎               | 1.1MB 38.8MB/s eta 0:00:01\r\u001b[K     |████████████████▍               | 1.2MB 38.8MB/s eta 0:00:01\r\u001b[K     |████████████████▋               | 1.2MB 38.8MB/s eta 0:00:01\r\u001b[K     |████████████████▊               | 1.2MB 38.8MB/s eta 0:00:01\r\u001b[K     |████████████████▉               | 1.2MB 38.8MB/s eta 0:00:01\r\u001b[K     |█████████████████               | 1.2MB 38.8MB/s eta 0:00:01\r\u001b[K     |█████████████████▏              | 1.2MB 38.8MB/s eta 0:00:01\r\u001b[K     |█████████████████▎              | 1.2MB 38.8MB/s eta 0:00:01\r\u001b[K     |█████████████████▍              | 1.2MB 38.8MB/s eta 0:00:01\r\u001b[K     |█████████████████▋              | 1.2MB 38.8MB/s eta 0:00:01\r\u001b[K     |█████████████████▊              | 1.2MB 38.8MB/s eta 0:00:01\r\u001b[K     |█████████████████▉              | 1.3MB 38.8MB/s eta 0:00:01\r\u001b[K     |██████████████████              | 1.3MB 38.8MB/s eta 0:00:01\r\u001b[K     |██████████████████▏             | 1.3MB 38.8MB/s eta 0:00:01\r\u001b[K     |██████████████████▎             | 1.3MB 38.8MB/s eta 0:00:01\r\u001b[K     |██████████████████▌             | 1.3MB 38.8MB/s eta 0:00:01\r\u001b[K     |██████████████████▋             | 1.3MB 38.8MB/s eta 0:00:01\r\u001b[K     |██████████████████▊             | 1.3MB 38.8MB/s eta 0:00:01\r\u001b[K     |███████████████████             | 1.3MB 38.8MB/s eta 0:00:01\r\u001b[K     |███████████████████             | 1.3MB 38.8MB/s eta 0:00:01\r\u001b[K     |███████████████████▏            | 1.4MB 38.8MB/s eta 0:00:01\r\u001b[K     |███████████████████▎            | 1.4MB 38.8MB/s eta 0:00:01\r\u001b[K     |███████████████████▌            | 1.4MB 38.8MB/s eta 0:00:01\r\u001b[K     |███████████████████▋            | 1.4MB 38.8MB/s eta 0:00:01\r\u001b[K     |███████████████████▊            | 1.4MB 38.8MB/s eta 0:00:01\r\u001b[K     |████████████████████            | 1.4MB 38.8MB/s eta 0:00:01\r\u001b[K     |████████████████████            | 1.4MB 38.8MB/s eta 0:00:01\r\u001b[K     |████████████████████▏           | 1.4MB 38.8MB/s eta 0:00:01\r\u001b[K     |████████████████████▍           | 1.4MB 38.8MB/s eta 0:00:01\r\u001b[K     |████████████████████▌           | 1.4MB 38.8MB/s eta 0:00:01\r\u001b[K     |████████████████████▋           | 1.5MB 38.8MB/s eta 0:00:01\r\u001b[K     |████████████████████▉           | 1.5MB 38.8MB/s eta 0:00:01\r\u001b[K     |█████████████████████           | 1.5MB 38.8MB/s eta 0:00:01\r\u001b[K     |█████████████████████           | 1.5MB 38.8MB/s eta 0:00:01\r\u001b[K     |█████████████████████▏          | 1.5MB 38.8MB/s eta 0:00:01\r\u001b[K     |█████████████████████▍          | 1.5MB 38.8MB/s eta 0:00:01\r\u001b[K     |█████████████████████▌          | 1.5MB 38.8MB/s eta 0:00:01\r\u001b[K     |█████████████████████▋          | 1.5MB 38.8MB/s eta 0:00:01\r\u001b[K     |█████████████████████▉          | 1.5MB 38.8MB/s eta 0:00:01\r\u001b[K     |██████████████████████          | 1.5MB 38.8MB/s eta 0:00:01\r\u001b[K     |██████████████████████          | 1.6MB 38.8MB/s eta 0:00:01\r\u001b[K     |██████████████████████▎         | 1.6MB 38.8MB/s eta 0:00:01\r\u001b[K     |██████████████████████▍         | 1.6MB 38.8MB/s eta 0:00:01\r\u001b[K     |██████████████████████▌         | 1.6MB 38.8MB/s eta 0:00:01\r\u001b[K     |██████████████████████▊         | 1.6MB 38.8MB/s eta 0:00:01\r\u001b[K     |██████████████████████▉         | 1.6MB 38.8MB/s eta 0:00:01\r\u001b[K     |███████████████████████         | 1.6MB 38.8MB/s eta 0:00:01\r\u001b[K     |███████████████████████         | 1.6MB 38.8MB/s eta 0:00:01\r\u001b[K     |███████████████████████▎        | 1.6MB 38.8MB/s eta 0:00:01\r\u001b[K     |███████████████████████▍        | 1.6MB 38.8MB/s eta 0:00:01\r\u001b[K     |███████████████████████▌        | 1.7MB 38.8MB/s eta 0:00:01\r\u001b[K     |███████████████████████▊        | 1.7MB 38.8MB/s eta 0:00:01\r\u001b[K     |███████████████████████▉        | 1.7MB 38.8MB/s eta 0:00:01\r\u001b[K     |████████████████████████        | 1.7MB 38.8MB/s eta 0:00:01\r\u001b[K     |████████████████████████▏       | 1.7MB 38.8MB/s eta 0:00:01\r\u001b[K     |████████████████████████▎       | 1.7MB 38.8MB/s eta 0:00:01\r\u001b[K     |████████████████████████▍       | 1.7MB 38.8MB/s eta 0:00:01\r\u001b[K     |████████████████████████▋       | 1.7MB 38.8MB/s eta 0:00:01\r\u001b[K     |████████████████████████▊       | 1.7MB 38.8MB/s eta 0:00:01\r\u001b[K     |████████████████████████▉       | 1.8MB 38.8MB/s eta 0:00:01\r\u001b[K     |█████████████████████████       | 1.8MB 38.8MB/s eta 0:00:01\r\u001b[K     |█████████████████████████▏      | 1.8MB 38.8MB/s eta 0:00:01\r\u001b[K     |█████████████████████████▎      | 1.8MB 38.8MB/s eta 0:00:01\r\u001b[K     |█████████████████████████▍      | 1.8MB 38.8MB/s eta 0:00:01\r\u001b[K     |█████████████████████████▋      | 1.8MB 38.8MB/s eta 0:00:01\r\u001b[K     |█████████████████████████▊      | 1.8MB 38.8MB/s eta 0:00:01\r\u001b[K     |█████████████████████████▉      | 1.8MB 38.8MB/s eta 0:00:01\r\u001b[K     |██████████████████████████      | 1.8MB 38.8MB/s eta 0:00:01\r\u001b[K     |██████████████████████████▏     | 1.8MB 38.8MB/s eta 0:00:01\r\u001b[K     |██████████████████████████▎     | 1.9MB 38.8MB/s eta 0:00:01\r\u001b[K     |██████████████████████████▌     | 1.9MB 38.8MB/s eta 0:00:01\r\u001b[K     |██████████████████████████▋     | 1.9MB 38.8MB/s eta 0:00:01\r\u001b[K     |██████████████████████████▊     | 1.9MB 38.8MB/s eta 0:00:01\r\u001b[K     |██████████████████████████▉     | 1.9MB 38.8MB/s eta 0:00:01\r\u001b[K     |███████████████████████████     | 1.9MB 38.8MB/s eta 0:00:01\r\u001b[K     |███████████████████████████▏    | 1.9MB 38.8MB/s eta 0:00:01\r\u001b[K     |███████████████████████████▎    | 1.9MB 38.8MB/s eta 0:00:01\r\u001b[K     |███████████████████████████▌    | 1.9MB 38.8MB/s eta 0:00:01\r\u001b[K     |███████████████████████████▋    | 1.9MB 38.8MB/s eta 0:00:01\r\u001b[K     |███████████████████████████▊    | 2.0MB 38.8MB/s eta 0:00:01\r\u001b[K     |████████████████████████████    | 2.0MB 38.8MB/s eta 0:00:01\r\u001b[K     |████████████████████████████    | 2.0MB 38.8MB/s eta 0:00:01\r\u001b[K     |████████████████████████████▏   | 2.0MB 38.8MB/s eta 0:00:01\r\u001b[K     |████████████████████████████▍   | 2.0MB 38.8MB/s eta 0:00:01\r\u001b[K     |████████████████████████████▌   | 2.0MB 38.8MB/s eta 0:00:01\r\u001b[K     |████████████████████████████▋   | 2.0MB 38.8MB/s eta 0:00:01\r\u001b[K     |████████████████████████████▊   | 2.0MB 38.8MB/s eta 0:00:01\r\u001b[K     |█████████████████████████████   | 2.0MB 38.8MB/s eta 0:00:01\r\u001b[K     |█████████████████████████████   | 2.0MB 38.8MB/s eta 0:00:01\r\u001b[K     |█████████████████████████████▏  | 2.1MB 38.8MB/s eta 0:00:01\r\u001b[K     |█████████████████████████████▍  | 2.1MB 38.8MB/s eta 0:00:01\r\u001b[K     |█████████████████████████████▌  | 2.1MB 38.8MB/s eta 0:00:01\r\u001b[K     |█████████████████████████████▋  | 2.1MB 38.8MB/s eta 0:00:01\r\u001b[K     |█████████████████████████████▉  | 2.1MB 38.8MB/s eta 0:00:01\r\u001b[K     |██████████████████████████████  | 2.1MB 38.8MB/s eta 0:00:01\r\u001b[K     |██████████████████████████████  | 2.1MB 38.8MB/s eta 0:00:01\r\u001b[K     |██████████████████████████████▎ | 2.1MB 38.8MB/s eta 0:00:01\r\u001b[K     |██████████████████████████████▍ | 2.1MB 38.8MB/s eta 0:00:01\r\u001b[K     |██████████████████████████████▌ | 2.2MB 38.8MB/s eta 0:00:01\r\u001b[K     |██████████████████████████████▋ | 2.2MB 38.8MB/s eta 0:00:01\r\u001b[K     |██████████████████████████████▉ | 2.2MB 38.8MB/s eta 0:00:01\r\u001b[K     |███████████████████████████████ | 2.2MB 38.8MB/s eta 0:00:01\r\u001b[K     |███████████████████████████████ | 2.2MB 38.8MB/s eta 0:00:01\r\u001b[K     |███████████████████████████████▎| 2.2MB 38.8MB/s eta 0:00:01\r\u001b[K     |███████████████████████████████▍| 2.2MB 38.8MB/s eta 0:00:01\r\u001b[K     |███████████████████████████████▌| 2.2MB 38.8MB/s eta 0:00:01\r\u001b[K     |███████████████████████████████▊| 2.2MB 38.8MB/s eta 0:00:01\r\u001b[K     |███████████████████████████████▉| 2.2MB 38.8MB/s eta 0:00:01\r\u001b[K     |████████████████████████████████| 2.3MB 38.8MB/s eta 0:00:01\r\u001b[K     |████████████████████████████████| 2.3MB 38.8MB/s \n",
            "\u001b[?25hRequirement already satisfied: pillow in /usr/local/lib/python3.6/dist-packages (from scikit-video) (6.2.2)\n",
            "Requirement already satisfied: numpy in /usr/local/lib/python3.6/dist-packages (from scikit-video) (1.17.5)\n",
            "Requirement already satisfied: scipy in /usr/local/lib/python3.6/dist-packages (from scikit-video) (1.4.1)\n",
            "Installing collected packages: scikit-video\n",
            "Successfully installed scikit-video-1.1.11\n"
          ],
          "name": "stdout"
        }
      ]
    },
    {
      "cell_type": "code",
      "metadata": {
        "id": "6Lnfj-Gr8UiN",
        "colab_type": "code",
        "outputId": "2e80161e-ab4f-4951-81be-14522ca60233",
        "colab": {
          "base_uri": "https://localhost:8080/",
          "height": 51
        }
      },
      "source": [
        "!pip install opencv-python"
      ],
      "execution_count": 0,
      "outputs": [
        {
          "output_type": "stream",
          "text": [
            "Requirement already satisfied: opencv-python in /usr/local/lib/python3.6/dist-packages (4.1.2.30)\n",
            "Requirement already satisfied: numpy>=1.11.3 in /usr/local/lib/python3.6/dist-packages (from opencv-python) (1.17.5)\n"
          ],
          "name": "stdout"
        }
      ]
    },
    {
      "cell_type": "code",
      "metadata": {
        "id": "YRkZa4zm7a3L",
        "colab_type": "code",
        "outputId": "c0848e2c-6f31-46e2-d23a-86854ddb8a16",
        "colab": {
          "base_uri": "https://localhost:8080/",
          "height": 80
        }
      },
      "source": [
        "import keras\n",
        "import numpy as np\n",
        "import io\n",
        "import base64\n",
        "from IPython.display import HTML\n",
        "import skvideo.io\n",
        "import cv2\n",
        "import json\n",
        "\n",
        "from collections import deque\n",
        "\n",
        "from keras.models import Sequential, model_from_json\n",
        "from keras.layers.core import Dense, Flatten\n",
        "from keras.optimizers import sgd\n",
        "from keras.regularizers import l2\n",
        "from keras.layers import Conv2D, MaxPooling2D, Activation, AveragePooling2D, Reshape, BatchNormalization\n",
        "\n",
        "%tensorflow_version 1.x"
      ],
      "execution_count": 0,
      "outputs": [
        {
          "output_type": "stream",
          "text": [
            "Using TensorFlow backend.\n"
          ],
          "name": "stderr"
        },
        {
          "output_type": "display_data",
          "data": {
            "text/html": [
              "<p style=\"color: red;\">\n",
              "The default version of TensorFlow in Colab will soon switch to TensorFlow 2.x.<br>\n",
              "We recommend you <a href=\"https://www.tensorflow.org/guide/migrate\" target=\"_blank\">upgrade</a> now \n",
              "or ensure your notebook will continue to use TensorFlow 1.x via the <code>%tensorflow_version 1.x</code> magic:\n",
              "<a href=\"https://colab.research.google.com/notebooks/tensorflow_version.ipynb\" target=\"_blank\">more info</a>.</p>\n"
            ],
            "text/plain": [
              "<IPython.core.display.HTML object>"
            ]
          },
          "metadata": {
            "tags": []
          }
        }
      ]
    },
    {
      "cell_type": "markdown",
      "metadata": {
        "id": "EL14CGge7a3T",
        "colab_type": "text"
      },
      "source": [
        "# MiniProject on Deep Reinforcement Learning"
      ]
    },
    {
      "cell_type": "markdown",
      "metadata": {
        "id": "tVy55qgn7a3U",
        "colab_type": "text"
      },
      "source": [
        "__Notations__: $E_p$ is the expectation under probability $p$. Please justify each of your answer and widely comment your code."
      ]
    },
    {
      "cell_type": "markdown",
      "metadata": {
        "id": "mJtJbKDn7a3V",
        "colab_type": "text"
      },
      "source": [
        "# Context"
      ]
    },
    {
      "cell_type": "markdown",
      "metadata": {
        "id": "rWoBhX0R7a3X",
        "colab_type": "text"
      },
      "source": [
        "In a reinforcement learning algorithm, we modelize each step $t$ as an action $a_t$ obtained from a state $s_t$, i.e. $\\{(a_{t},s_{t})_{t\\leq T}\\}$ having the Markov property. We consider a discount factor $\\gamma \\in [0,1]$ that ensures convergence. The goal is to find among all the policies $\\pi$, one that maximizes the expected reward:\n",
        "\n",
        "\\begin{equation*}\n",
        "R(\\pi)=\\sum_{t\\leq T}E_{p^{\\pi}}[\\gamma^t r(s_{t},a_{t})] \\> ,\n",
        "\\end{equation*}\n",
        "\n",
        "where: \n",
        "\\begin{equation*}p^{\\pi}(a_{0},a_{1},s_{1},...,a_{T},s_{T})=p(a_{0})\\prod_{t=1}^{T}\\pi(a_{t}|s_{t})p(s_{t+1}|s_{t},a_{t}) \\> .\n",
        "\\end{equation*}\n",
        "\n",
        "We note the $Q$-function:\n",
        "\n",
        "\\begin{equation*}Q^\\pi(s,a)=E_{p^{\\pi}}[\\sum_{t\\leq T}\\gamma^{t}r(s_{t},a_{t})|s_{0}=s,a_{0}=a] \\> .\n",
        "\\end{equation*}\n",
        "\n",
        "Thus, the optimal Q function is:\n",
        "\\begin{equation*}\n",
        "Q^*(s,a)=\\max_{\\pi}Q^\\pi(s,a) \\> .\n",
        "\\end{equation*}\n",
        "\n",
        "In this project, we will apply the deep reinforcement learning techniques to a simple game: an agent will have to learn from scratch a policy that will permit it maximizing a reward."
      ]
    },
    {
      "cell_type": "markdown",
      "metadata": {
        "id": "D7TkX3Yk7a3Y",
        "colab_type": "text"
      },
      "source": [
        "## The environment, the agent and the game"
      ]
    },
    {
      "cell_type": "markdown",
      "metadata": {
        "id": "NgJ68ljo7a3a",
        "colab_type": "text"
      },
      "source": [
        "### The environment"
      ]
    },
    {
      "cell_type": "markdown",
      "metadata": {
        "id": "SszvZW-Z7a3b",
        "colab_type": "text"
      },
      "source": [
        "```Environment``` is an abstract class that represents the states, rewards, and actions to obtain the new state."
      ]
    },
    {
      "cell_type": "code",
      "metadata": {
        "id": "WhQfFx9h7a3c",
        "colab_type": "code",
        "colab": {}
      },
      "source": [
        "class Environment(object):\n",
        "    def __init__(self):\n",
        "        pass\n",
        "\n",
        "    def act(self, act):\n",
        "        \"\"\"\n",
        "        One can act on the environment and obtain its reaction:\n",
        "        - the new state\n",
        "        - the reward of the new state\n",
        "        - should we continue the game?\n",
        "\n",
        "        :return: state, reward, game_over\n",
        "        \"\"\"\n",
        "        pass\n",
        "\n",
        "\n",
        "    def reset(self):\n",
        "        \"\"\"\n",
        "        Reinitialize the environment to a random state and returns\n",
        "        the original state\n",
        "\n",
        "        :return: state\n",
        "        \"\"\"\n",
        "        pass\n",
        "    \n",
        "    def draw(self):\n",
        "        \"\"\"\n",
        "        Visualize in the console or graphically the current state\n",
        "        \"\"\"\n",
        "        pass"
      ],
      "execution_count": 0,
      "outputs": []
    },
    {
      "cell_type": "markdown",
      "metadata": {
        "id": "NXRx8CB97a3f",
        "colab_type": "text"
      },
      "source": [
        "The method ```act``` allows to act on the environment at a given state $s_t$ (stored internally), via action $a_t$. The method will return the new state $s_{t+1}$, the reward $r(s_{t},a_{t})$ and determines if $t\\leq T$ (*game_over*).\n",
        "\n",
        "The method ```reset``` simply reinitializes the environment to a random state $s_0$.\n",
        "\n",
        "The method ```draw``` displays the current state $s_t$ (this is useful to check the behavior of the Agent).\n",
        "\n",
        "We modelize $s_t$ as a tensor, while $a_t$ is an integer."
      ]
    },
    {
      "cell_type": "markdown",
      "metadata": {
        "id": "QaVWFNxn7a3h",
        "colab_type": "text"
      },
      "source": [
        "### The Agent"
      ]
    },
    {
      "cell_type": "markdown",
      "metadata": {
        "id": "olNnllzi7a3i",
        "colab_type": "text"
      },
      "source": [
        "The goal of the ```Agent``` is to interact with the ```Environment``` by proposing actions $a_t$ obtained from a given state $s_t$ to attempt to maximize its __reward__ $r(s_t,a_t)$. We propose the following abstract class:"
      ]
    },
    {
      "cell_type": "code",
      "metadata": {
        "id": "U73_fUz37a3j",
        "colab_type": "code",
        "colab": {}
      },
      "source": [
        "class Agent(object):\n",
        "    def __init__(self, epsilon=0.1, n_action=4):\n",
        "        self.epsilon  = epsilon\n",
        "        self.n_action = n_action\n",
        "    \n",
        "    def set_epsilon(self, e):\n",
        "        self.epsilon = e\n",
        "\n",
        "    def act(self, s, train=True):\n",
        "        \"\"\" This function should return the next action to do:\n",
        "        an integer between 0 and 4 (not included) with a random exploration of epsilon\"\"\"\n",
        "        if train:\n",
        "            if np.random.rand() <= self.epsilon:\n",
        "                a = np.random.randint(0, self.n_action, size=1)[0]\n",
        "            else:\n",
        "                a = self.learned_act(s)\n",
        "        else: # in some cases, this can improve the performance.. remove it if poor performances\n",
        "            a = self.learned_act(s)\n",
        "\n",
        "        return a\n",
        "\n",
        "    def learned_act(self,s):\n",
        "        \"\"\" Act via the policy of the agent, from a given state s\n",
        "        it proposes an action a\"\"\"\n",
        "        pass\n",
        "\n",
        "    def reinforce(self, s, n_s, a, r, game_over_):\n",
        "        \"\"\" This function is the core of the learning algorithm. \n",
        "        It takes as an input the current state s_, the next state n_s_\n",
        "        the action a_ used to move from s_ to n_s_ and the reward r_.\n",
        "        \n",
        "        Its goal is to learn a policy.\n",
        "        \"\"\"\n",
        "        pass\n",
        "\n",
        "    def save(self):\n",
        "        \"\"\" This function returns basic stats if applicable: the\n",
        "        loss and/or the model\"\"\"\n",
        "        pass\n",
        "\n",
        "    def load(self):\n",
        "        \"\"\" This function allows to restore a model\"\"\"\n",
        "        pass"
      ],
      "execution_count": 0,
      "outputs": []
    },
    {
      "cell_type": "markdown",
      "metadata": {
        "id": "7yBh_Q9C7a3p",
        "colab_type": "text"
      },
      "source": [
        "***\n",
        "__Question 1__:\n",
        "Explain the function act. Why is ```epsilon``` essential?"
      ]
    },
    {
      "cell_type": "markdown",
      "metadata": {
        "id": "HNp_Dnus7a3s",
        "colab_type": "text"
      },
      "source": [
        "The act function allows to select an action to be performed in the environnement. The choice of the action depends on the phase. \n",
        "In the training phase, we perform a random action from $A = \\{0,1,2,3\\}$ with an $\\epsilon$ probability to encourage exploration, or perform an action according to the learned policy with a $1-\\epsilon$ probability to exploit the current policy. \n",
        "In the test phase, the agent performs the best action with respect to the current state according to the learned policy.\n",
        "\n",
        "The choice of the parameter $\\epsilon$ is crucial as the larger is its value, the more it allows the agent to explore the environnement. It encourages the agent to avoid getting stuck in local reward optimas.\n"
      ]
    },
    {
      "cell_type": "markdown",
      "metadata": {
        "id": "VQz0SN857a3t",
        "colab_type": "text"
      },
      "source": [
        "***\n",
        "### The Game"
      ]
    },
    {
      "cell_type": "markdown",
      "metadata": {
        "id": "FKnca7u97a3u",
        "colab_type": "text"
      },
      "source": [
        "The ```Agent``` and the ```Environment``` work in an interlaced way as in the following (take some time to understand this code as it is the core of the project)\n",
        "\n",
        "```python\n",
        "\n",
        "epoch = 300\n",
        "env = Environment()\n",
        "agent = Agent()\n",
        "\n",
        "\n",
        "# Number of won games\n",
        "score = 0\n",
        "loss = 0\n",
        "\n",
        "\n",
        "for e in range(epoch):\n",
        "    # At each epoch, we restart to a fresh game and get the initial state\n",
        "    state = env.reset()\n",
        "    # This assumes that the games will end\n",
        "    game_over = False\n",
        "\n",
        "    win = 0\n",
        "    lose = 0\n",
        "    \n",
        "    while not game_over:\n",
        "        # The agent performs an action\n",
        "        action = agent.act(state)\n",
        "\n",
        "        # Apply an action to the environment, get the next state, the reward\n",
        "        # and if the games end\n",
        "        prev_state = state\n",
        "        state, reward, game_over = env.act(action)\n",
        "\n",
        "        # Update the counters\n",
        "        if reward > 0:\n",
        "            win = win + reward\n",
        "        if reward < 0:\n",
        "            lose = lose -reward\n",
        "\n",
        "        # Apply the reinforcement strategy\n",
        "        loss = agent.reinforce(prev_state, state,  action, reward, game_over)\n",
        "\n",
        "    # Save as a mp4\n",
        "    if e % 10 == 0:\n",
        "        env.draw(e)\n",
        "\n",
        "    # Update stats\n",
        "    score += win-lose\n",
        "\n",
        "    print(\"Epoch {:03d}/{:03d} | Loss {:.4f} | Win/lose count {}/{} ({})\"\n",
        "          .format(e, epoch, loss, win, lose, win-lose))\n",
        "    agent.save()\n",
        "```"
      ]
    },
    {
      "cell_type": "markdown",
      "metadata": {
        "id": "ggejyFTl7a3u",
        "colab_type": "text"
      },
      "source": [
        "# The game, *eat cheese*"
      ]
    },
    {
      "cell_type": "markdown",
      "metadata": {
        "id": "hTUO-5eg7a3v",
        "colab_type": "text"
      },
      "source": [
        "A rat runs on an island and tries to eat as much as possible. The island is subdivided into $N\\times N$ cells, in which there are cheese (+0.5) and poisonous cells (-1). The rat has a visibility of 2 cells (thus it can see $5^2$ cells). The rat is given a time $T$ to accumulate as much food as possible. It can perform 4 actions: going up, down, left, right. \n",
        "\n",
        "The goal is to code an agent to solve this task that will learn by trial and error. We propose the following environment:"
      ]
    },
    {
      "cell_type": "code",
      "metadata": {
        "id": "U0__U--w7a3w",
        "colab_type": "code",
        "colab": {}
      },
      "source": [
        "class Environment(object):\n",
        "    def __init__(self, grid_size=10, max_time=500, temperature=0.1):\n",
        "        grid_size = grid_size + 4\n",
        "        self.grid_size   = grid_size\n",
        "        self.max_time    = max_time\n",
        "        self.temperature = temperature\n",
        "\n",
        "        #board on which one plays\n",
        "        self.board    = np.zeros((grid_size,grid_size))\n",
        "        self.position = np.zeros((grid_size,grid_size))\n",
        "\n",
        "        # coordinate of the cat\n",
        "        self.x = 0\n",
        "        self.y = 1\n",
        "\n",
        "        # self time\n",
        "        self.t = 0\n",
        "        self.scale = 16\n",
        "        self.to_draw = np.zeros((max_time+2, grid_size*self.scale, grid_size*self.scale, 3))\n",
        "\n",
        "    def draw(self, e):\n",
        "        skvideo.io.vwrite(str(e) + '.mp4', self.to_draw)\n",
        "\n",
        "    def get_frame(self, t):\n",
        "        b = np.zeros((self.grid_size,self.grid_size,3)) + 128\n",
        "        b[self.board > 0, 0] = 256\n",
        "        b[self.board < 0, 2] = 256\n",
        "        b[self.x, self.y, :] = 256\n",
        "        b[-2:, :, :] = 0\n",
        "        b[:, -2:, :] = 0\n",
        "        b[:2, :, :]  = 0\n",
        "        b[:, :2, :]  = 0\n",
        "        \n",
        "        b =  cv2.resize(b, None, fx=self.scale, fy=self.scale, interpolation=cv2.INTER_NEAREST)\n",
        "\n",
        "        self.to_draw[t,:,:,:] = b\n",
        "\n",
        "    def act(self, action):\n",
        "        \"\"\"This function returns the new state, reward and decides if the game ends.\"\"\"\n",
        "\n",
        "        self.get_frame(int(self.t))\n",
        "\n",
        "        self.position = np.zeros((self.grid_size, self.grid_size))\n",
        "        self.position[0:2, :] = -1\n",
        "        self.position[:, 0:2] = -1\n",
        "        self.position[-2:, :] = -1\n",
        "        self.position[-2:, :] = -1\n",
        "        self.position[self.x, self.y] = 1\n",
        "\n",
        "        if action == 0:\n",
        "            if self.x == self.grid_size - 3:\n",
        "                self.x = self.x - 1\n",
        "            else:\n",
        "                self.x = self.x + 1\n",
        "        elif action == 1:\n",
        "            if self.x == 2:\n",
        "                self.x = self.x + 1\n",
        "            else:\n",
        "                self.x = self.x - 1\n",
        "        elif action == 2:\n",
        "            if self.y == self.grid_size - 3:\n",
        "                self.y = self.y - 1\n",
        "            else:\n",
        "                self.y = self.y + 1\n",
        "        elif action == 3:\n",
        "            if self.y == 2:\n",
        "                self.y = self.y + 1\n",
        "            else:\n",
        "                self.y = self.y - 1\n",
        "        else:\n",
        "            RuntimeError('Error: action not recognized')\n",
        "\n",
        "        self.t = self.t + 1\n",
        "        reward = self.board[self.x, self.y]\n",
        "        self.board[self.x, self.y] = 0\n",
        "        game_over = self.t > self.max_time\n",
        "        state = np.concatenate((self.board.reshape(self.grid_size, self.grid_size,1),\n",
        "                                self.position.reshape(self.grid_size, self.grid_size,1)), axis=2)\n",
        "        state = state[self.x-2:self.x+3,self.y-2:self.y+3,:]\n",
        "\n",
        "        return state, reward, game_over\n",
        "\n",
        "    def reset(self):\n",
        "        \"\"\"This function resets the game and returns the initial state\"\"\"\n",
        "\n",
        "        self.x = np.random.randint(3, self.grid_size - 3, size=1)[0]\n",
        "        self.y = np.random.randint(3, self.grid_size - 3, size=1)[0]\n",
        "\n",
        "        bonus = 0.5 * np.random.binomial(1, self.temperature, size=self.grid_size**2)\n",
        "        bonus = bonus.reshape(self.grid_size,self.grid_size)\n",
        "\n",
        "        malus = -1.0 * np.random.binomial(1, self.temperature, size=self.grid_size**2)\n",
        "        malus = malus.reshape(self.grid_size, self.grid_size)\n",
        "\n",
        "        self.to_draw = np.zeros((self.max_time+2, self.grid_size*self.scale, self.grid_size*self.scale, 3))\n",
        "\n",
        "        malus[bonus>0] = 0\n",
        "\n",
        "        self.board = bonus + malus\n",
        "\n",
        "        self.position = np.zeros((self.grid_size, self.grid_size))\n",
        "        self.position[0:2, :] = -1\n",
        "        self.position[:, 0:2] = -1\n",
        "        self.position[-2:, :] = -1\n",
        "        self.position[-2:, :] = -1\n",
        "        self.board[self.x, self.y] = 0\n",
        "        self.t = 0\n",
        "\n",
        "        state = np.concatenate((self.board.reshape(self.grid_size, self.grid_size,1),\n",
        "                                self.position.reshape(self.grid_size, self.grid_size,1)), axis=2)\n",
        "\n",
        "        state = state[self.x - 2: self.x + 3, self.y - 2 : self.y + 3, :]\n",
        "        return state"
      ],
      "execution_count": 0,
      "outputs": []
    },
    {
      "cell_type": "markdown",
      "metadata": {
        "id": "6cPck5sM7a3y",
        "colab_type": "text"
      },
      "source": [
        "The following elements are important because they correspond to the hyper parameters for this project:"
      ]
    },
    {
      "cell_type": "code",
      "metadata": {
        "id": "43S-Wgls7a3z",
        "colab_type": "code",
        "colab": {}
      },
      "source": [
        "# parameters\n",
        "size = 13\n",
        "T    = 200\n",
        "temperature  = 0.3\n",
        "epochs_train = 50 # set small when debugging\n",
        "epochs_test  = 30 # set small when debugging\n",
        "\n",
        "# display videos\n",
        "def display_videos(name):\n",
        "    video = io.open(name, 'r+b').read()\n",
        "    encoded = base64.b64encode(video)\n",
        "    return '''<video alt=\"test\" controls>\n",
        "                <source src=\"data:video/mp4;base64,{0}\" type=\"video/mp4\" />\n",
        "             </video>'''.format(encoded.decode('ascii'))"
      ],
      "execution_count": 0,
      "outputs": []
    },
    {
      "cell_type": "markdown",
      "metadata": {
        "id": "2aYfwmRu7a34",
        "colab_type": "text"
      },
      "source": [
        "__Question 2__ Explain the use of the arrays ```position``` and ```board```."
      ]
    },
    {
      "cell_type": "markdown",
      "metadata": {
        "id": "ehcbRZoC7a35",
        "colab_type": "text"
      },
      "source": [
        "The array `board` defines the spatial distribution of the rewards on the  $N \\times N$ grid. It stores the reward of getting to a state $(x,y)$ in the board, which is set to 0 after its collection, right after the state has already been visited. \n",
        "\n",
        "If we get a closer look at `get_frame`, which is a graphic representation of the environement, red cells contain positive rewards, blue cells correspond to negative rewards, the position of the rat is represented by a white cell and black cells correspond to borders.\n",
        "\n",
        "The array `position` is a static array that defines the borders -- forbidden states -- of the grid by -1, the allowed states by 0 and the position of the agent by 1."
      ]
    },
    {
      "cell_type": "markdown",
      "metadata": {
        "id": "il_SEi867a36",
        "colab_type": "text"
      },
      "source": [
        "## Random Agent"
      ]
    },
    {
      "cell_type": "markdown",
      "metadata": {
        "id": "LMkQipT47a37",
        "colab_type": "text"
      },
      "source": [
        "***\n",
        "__Question 3__ Implement a random Agent (only ```learned_act``` needs to be implemented):"
      ]
    },
    {
      "cell_type": "code",
      "metadata": {
        "id": "SSRfXu4s7a37",
        "colab_type": "code",
        "colab": {}
      },
      "source": [
        "class RandomAgent(Agent):\n",
        "    def __init__(self):\n",
        "        super(RandomAgent, self).__init__()\n",
        "        pass\n",
        "\n",
        "    def learned_act(self, s):\n",
        "        return np.random.randint(self.n_action)"
      ],
      "execution_count": 0,
      "outputs": []
    },
    {
      "cell_type": "markdown",
      "metadata": {
        "id": "ZijOs5xR7a3-",
        "colab_type": "text"
      },
      "source": [
        "***\n",
        "***\n",
        "__Question 4__ Visualize the game moves. You need to fill in the following function for the evaluation:"
      ]
    },
    {
      "cell_type": "code",
      "metadata": {
        "id": "bc_TDNW07a3-",
        "colab_type": "code",
        "colab": {}
      },
      "source": [
        "def test(agent, env, epochs, prefix=''):\n",
        "    # Number of won games\n",
        "    score = 0\n",
        "    #loss = 0\n",
        "\n",
        "    for e in range(epochs):\n",
        "        # At each epoch, we restart to a fresh game and get the initial state\n",
        "        state = env.reset()\n",
        "        # This assumes that the game will end\n",
        "        game_over = False\n",
        "\n",
        "        win  = 0\n",
        "        lose = 0\n",
        "        \n",
        "        while not game_over:\n",
        "            # The agent performs an action\n",
        "            action = agent.act(state)\n",
        "            # Apply an action to the environment, get the next state, the reward and the state of the game\n",
        "            previous_state = state\n",
        "            state, reward, game_over = env.act(action)\n",
        "            # Update the counters\n",
        "            if reward > 0:\n",
        "                win = win + reward\n",
        "            if reward < 0:\n",
        "                lose = lose - reward\n",
        "            # Apply the reinforcement strategy\n",
        "            #loss = agent.reinforce(previous_state, state, action, reward, game_over)\n",
        "\n",
        "        # Save as a mp4\n",
        "        if e % 10 == 0:\n",
        "            env.draw(prefix+str(e+1))\n",
        "        # Update stats\n",
        "        score += win - lose\n",
        "\n",
        "        print(\"Epoch {:03d}/{:03d} | Win/lose count {}/{} ({}) | Average score {:.3f}\".format(e+1, epochs, str(win), str(lose), str(win-lose), score/(1+e)))\n",
        "        agent.save()\n",
        "\n",
        "    print('Final score: '+str(score/epochs))"
      ],
      "execution_count": 0,
      "outputs": []
    },
    {
      "cell_type": "code",
      "metadata": {
        "id": "Kur3WfqZ7a4A",
        "colab_type": "code",
        "outputId": "521eb580-ae62-416c-abfe-2469fed3d337",
        "colab": {
          "base_uri": "https://localhost:8080/",
          "height": 698
        }
      },
      "source": [
        "# Initialize the game\n",
        "env = Environment(grid_size=size, max_time=T, temperature=temperature)\n",
        "\n",
        "# Initialize the agent\n",
        "agent = RandomAgent()\n",
        "\n",
        "test(agent, env, epochs_test, prefix='random')\n",
        "HTML(display_videos('random1.mp4'))"
      ],
      "execution_count": 0,
      "outputs": [
        {
          "output_type": "stream",
          "text": [
            "Epoch 001/030 | Win/lose count 15.5/15.0 (0.5) | Average score 0.500\n",
            "Epoch 002/030 | Win/lose count 11.0/18.0 (-7.0) | Average score -3.250\n",
            "Epoch 003/030 | Win/lose count 9.0/8.0 (1.0) | Average score -1.833\n",
            "Epoch 004/030 | Win/lose count 10.5/12.0 (-1.5) | Average score -1.750\n",
            "Epoch 005/030 | Win/lose count 3.5/12.0 (-8.5) | Average score -3.100\n",
            "Epoch 006/030 | Win/lose count 9.5/15.0 (-5.5) | Average score -3.500\n",
            "Epoch 007/030 | Win/lose count 6.5/13.0 (-6.5) | Average score -3.929\n",
            "Epoch 008/030 | Win/lose count 11.5/12.0 (-0.5) | Average score -3.500\n",
            "Epoch 009/030 | Win/lose count 13.0/12.0 (1.0) | Average score -3.000\n",
            "Epoch 010/030 | Win/lose count 3.5/9.0 (-5.5) | Average score -3.250\n",
            "Epoch 011/030 | Win/lose count 12.5/16.0 (-3.5) | Average score -3.273\n",
            "Epoch 012/030 | Win/lose count 10.0/12.0 (-2.0) | Average score -3.167\n",
            "Epoch 013/030 | Win/lose count 12.5/14.0 (-1.5) | Average score -3.038\n",
            "Epoch 014/030 | Win/lose count 14.5/9.0 (5.5) | Average score -2.429\n",
            "Epoch 015/030 | Win/lose count 13.5/13.0 (0.5) | Average score -2.233\n",
            "Epoch 016/030 | Win/lose count 9.0/15.0 (-6.0) | Average score -2.469\n",
            "Epoch 017/030 | Win/lose count 7.0/10.0 (-3.0) | Average score -2.500\n",
            "Epoch 018/030 | Win/lose count 7.5/15.0 (-7.5) | Average score -2.778\n",
            "Epoch 019/030 | Win/lose count 11.0/17.0 (-6.0) | Average score -2.947\n",
            "Epoch 020/030 | Win/lose count 11.5/16.0 (-4.5) | Average score -3.025\n",
            "Epoch 021/030 | Win/lose count 13.0/9.0 (4.0) | Average score -2.690\n",
            "Epoch 022/030 | Win/lose count 10.5/12.0 (-1.5) | Average score -2.636\n",
            "Epoch 023/030 | Win/lose count 6.0/14.0 (-8.0) | Average score -2.870\n",
            "Epoch 024/030 | Win/lose count 7.5/9.0 (-1.5) | Average score -2.812\n",
            "Epoch 025/030 | Win/lose count 13.5/20.0 (-6.5) | Average score -2.960\n",
            "Epoch 026/030 | Win/lose count 6.5/15.0 (-8.5) | Average score -3.173\n",
            "Epoch 027/030 | Win/lose count 11.0/15.0 (-4.0) | Average score -3.204\n",
            "Epoch 028/030 | Win/lose count 10.0/14.0 (-4.0) | Average score -3.232\n",
            "Epoch 029/030 | Win/lose count 5.0/8.0 (-3.0) | Average score -3.224\n",
            "Epoch 030/030 | Win/lose count 9.0/14.0 (-5.0) | Average score -3.283\n",
            "Final score: -3.283333333333333\n"
          ],
          "name": "stdout"
        },
        {
          "output_type": "execute_result",
          "data": {
            "text/html": [
              "<video alt=\"test\" controls>\n",
              "                <source src=\"data:video/mp4;base64,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\" type=\"video/mp4\" />\n",
              "             </video>"
            ],
            "text/plain": [
              "<IPython.core.display.HTML object>"
            ]
          },
          "metadata": {
            "tags": []
          },
          "execution_count": 10
        }
      ]
    },
    {
      "cell_type": "markdown",
      "metadata": {
        "id": "6kBRhpx-7a4D",
        "colab_type": "text"
      },
      "source": [
        "***\n",
        "## DQN"
      ]
    },
    {
      "cell_type": "markdown",
      "metadata": {
        "id": "-T07nREn7a4E",
        "colab_type": "text"
      },
      "source": [
        "Let us assume here that $T=\\infty$.\n",
        "\n",
        "***\n",
        "__Question 5__ Let $\\pi$ be a policy, show that:\n",
        "\n",
        "\\begin{equation*}\n",
        "Q^{\\pi}(s,a)=E_{(s',a')\\sim p(.|s,a)}[r(s,a)+\\gamma Q^{\\pi}(s',a')]\n",
        "\\end{equation*}\n",
        "\n",
        "Then, show that for the optimal policy $\\pi^*$ (we assume its existence), the following holds: \n",
        "\n",
        "\\begin{equation*}\n",
        "Q^{*}(s,a)=E_{s'\\sim \\pi^*(.|s,a)}[r(s,a)+\\gamma\\max_{a'}Q^{*}(s',a')].\n",
        "\\end{equation*}\n",
        "Finally, deduce that a plausible objective is:\n",
        "\n",
        "\\begin{equation*}\n",
        "\\mathcal{L}(\\theta)=E_{s' \\sim \\pi^*(.|s,a)}\\Vert r+\\gamma\\max\\max_{a'}Q(s',a',\\theta)-Q(s,a,\\theta)\\Vert^{2}.\n",
        "\\end{equation*}\n",
        "\n",
        "\n"
      ]
    },
    {
      "cell_type": "markdown",
      "metadata": {
        "id": "R5iP5Kb-7a4E",
        "colab_type": "text"
      },
      "source": [
        "__1)__ Let $\\pi$ be a policy.\n",
        "$$\n",
        "\\begin{align*} \n",
        "Q^\\pi(s,a)&=E_{p^{\\pi}}[\\sum_{t=0}^{\\infty}\\gamma^{t}r(s_{t},a_{t})|s_{0}=s,a_{0}=a]\\\\\n",
        "          &=E_{p^{\\pi}}[r(s_0,a_0) + \\gamma\\sum_{t=1}^{\\infty}\\gamma^{t-1}r(s_{t},a_{t})|s_{0}=s,a_{0}=a]\\\\\n",
        "          &=r(s,a) + \\gamma E_{p^{\\pi}}[\\sum_{t=1}^{\\infty}\\gamma^{t-1}r(s_{t},a_{t})|s_{0}=s,a_{0}=a]\\\\\n",
        "          &=r(s,a) + \\gamma \\sum_{s',a'} p^\\pi(s_1=s',a_1=a'|s_0=s,a_0=a)E_{p^{\\pi}}[\\sum_{t=1}^{\\infty}\\gamma^{t-1} r(s_{t},a_{t})|s_{1}=s',a_{1}=a'] \\quad &\\text{Markov Property}\\\\\n",
        "          &=r(s,a) + \\gamma \\sum_{s',a'} p^\\pi(s_1=s',a_1=a'|s_0=s,a_0=a)E_{p^{\\pi}}[\\sum_{t=0}^{\\infty}\\gamma^{t} r(s_{t},a_{t})|s_{0}=s',a_{0}=a'] \\quad &\\text{MDP and change of time}\\\\\n",
        "          &=r(s,a) + \\gamma E_{(s',a')\\sim p^\\pi(.|s,a)}\\left(E_{p^{\\pi}}[\\sum_{t=0}^{\\infty}\\gamma^{t}r(s_{t},a_{t})|s_{0}=s',a_{0}=a']\\right)\\\\\n",
        "          &=E_{(s',a')\\sim p^\\pi(.|s,a)}\\left(r(s,a) + \\gamma E_{p^{\\pi}}[\\sum_{t=0}^{\\infty}\\gamma^{t}r(s_{t},a_{t})|s_{0}=s',a_{0}=a']\\right)\\\\\n",
        "          &=E_{(s',a')\\sim p^\\pi(.|s,a)}\\left(r(s,a) + \\gamma Q^{\\pi}(s',a') \\right).\n",
        "\\end{align*}\n",
        "$$\n",
        "\n",
        "\n",
        "__2)__ \n",
        "The optimal policy $\\pi^*$ is deterministic verifying $\\pi^*(s') = arg\\max_{a'} Q^{*}(s',a')$ and $Q^*(s,a)=Q^{\\pi^*}(s,a).$\n",
        "\n",
        "We have $(s',a')\\sim p^\\pi(.|s,a)$, which breaks down then to $s'\\sim p(.|s,a)$ and $a'\\sim \\pi(.|s')$.\n",
        "\n",
        "\n",
        "\\begin{align*}\n",
        "Q^*(s,a)&= E_{(s',a')\\sim p^{\\pi^{*}}(.|s,a)}\\left(r(s,a) + \\gamma Q^{*}(s',a') \\right)\\\\\n",
        "        &= E_{s' \\sim p(.|s,a),\\, a'\\sim \\pi^*(.|s')}\\left(r(s,a) + \\gamma Q^{*}(s',a') \\right)\\\\\n",
        "         &= E_{s'\\sim p(.|s,a),\\, a' = \\pi^*(s')}\\left(r(s,a) + \\gamma Q^{*}(s',a') \\right) \\quad \\textrm{Deterministic policy}\\\\\n",
        "        &= E_{s' \\sim p(.|s,a)}\\left(r(s,a) + \\gamma \\max_{a'}Q^{*}(s',a') \\right)\\\\\n",
        "\\end{align*}\n",
        "\n",
        "\n",
        "__3)__\n",
        "We have shown that $Q^*$ is the solution of the equation $F(Q) = 0$ with $$F(Q) = E_{s' \\sim p(.|s,a)}\\left(r(s,a) + \\gamma \\max_{a'}Q(s',a') - Q(s,a)\\right).$$\n",
        "\n",
        "Minimizing $\\mathcal{L}(\\theta)=E_{s' \\sim p(.|s,a)}\\Vert r(s,a) +\\gamma\\max_{a'}Q(s',a',\\theta)-Q(s,a,\\theta)\\Vert^{2}$ will lead us to find the optimal Q function, noted $Q^*$, hence the optimal policy $\\pi^*$."
      ]
    },
    {
      "cell_type": "markdown",
      "metadata": {
        "id": "GyCZxX3c7a4F",
        "colab_type": "text"
      },
      "source": [
        "***\n",
        "The DQN-learning algorithm relies on these derivations to train the parameters $\\theta$ of a Deep Neural Network:\n",
        "\n",
        "1. At the state $s_t$, select the action $a_t$ with best reward using $Q_t$ and store the results;\n",
        "\n",
        "2. Obtain the new state $s_{t+1}$ from the environment $p$;\n",
        "\n",
        "3. Store $(s_t,a_t,s_{t+1})$;\n",
        "\n",
        "4. Obtain $Q_{t+1}$ by minimizing  $\\mathcal{L}$ from a recovered batch from the previously stored results.\n",
        "\n",
        "***\n",
        "__Question 6__ Implement the class ```Memory``` that stores moves (in a replay buffer) via ```remember``` and provides a ```random_access``` to these. Specify a maximum memory size to avoid side effects. You can for example use a ```list()``` and set by default ```max_memory=100```."
      ]
    },
    {
      "cell_type": "code",
      "metadata": {
        "id": "ggu4jyia7a4F",
        "colab_type": "code",
        "colab": {}
      },
      "source": [
        "class Memory(object):\n",
        "    def __init__(self, max_memory=100):\n",
        "        self.max_memory = max_memory\n",
        "        self.memory = deque(maxlen = self.max_memory) \n",
        "        \n",
        "    def remember(self, m):\n",
        "        self.memory.append(m)\n",
        "\n",
        "    def random_access(self):\n",
        "        return self.memory[np.random.randint(len(self.memory))]"
      ],
      "execution_count": 0,
      "outputs": []
    },
    {
      "cell_type": "markdown",
      "metadata": {
        "id": "kl5PAhzK7a4H",
        "colab_type": "text"
      },
      "source": [
        "***\n",
        "The pipeline we will use for training is given below:"
      ]
    },
    {
      "cell_type": "code",
      "metadata": {
        "id": "loFCj1bP7a4I",
        "colab_type": "code",
        "colab": {}
      },
      "source": [
        "def train(agent, env, epoch, prefix=''):\n",
        "    # Number of won games\n",
        "    score = 0\n",
        "    loss = 0\n",
        "\n",
        "    for e in range(epoch):\n",
        "        # At each epoch, we restart to a fresh game and get the initial state\n",
        "        state = env.reset()\n",
        "        # This assumes that the games will terminate\n",
        "        game_over = False\n",
        "\n",
        "        win = 0\n",
        "        lose = 0\n",
        "\n",
        "        while not game_over:\n",
        "            # The agent performs an action\n",
        "            action = agent.act(state)\n",
        "\n",
        "            # Apply an action to the environment, get the next state, the reward and if the games end\n",
        "            previous_state = state\n",
        "            state, reward, game_over = env.act(action)\n",
        "\n",
        "            # Update the counters\n",
        "            if reward > 0:\n",
        "                win = win + reward\n",
        "            if reward < 0:\n",
        "                lose = lose -reward\n",
        "\n",
        "            # Apply the reinforcement strategy\n",
        "            loss = agent.reinforce(previous_state, state, action, reward, game_over)\n",
        "\n",
        "        # Save as a mp4\n",
        "        if e % 10 == 0:\n",
        "            env.draw(prefix+str(e))\n",
        "\n",
        "        # Update stats\n",
        "        score += win-lose\n",
        "\n",
        "        print(\"Epoch {:03d}/{:03d} | Loss {:.4f} | Win/lose count {}/{} ({})\".format(e, epoch, loss, win, lose, win-lose))\n",
        "        agent.save(name_weights=prefix+'model.h5', name_model=prefix+'model.json')"
      ],
      "execution_count": 0,
      "outputs": []
    },
    {
      "cell_type": "markdown",
      "metadata": {
        "id": "SFW-axU07a4K",
        "colab_type": "text"
      },
      "source": [
        "***\n",
        "__Question 7__ Implement the DQN training algorithm using a cascade of fully connected layers. You can use different learning rate, batch size or memory size parameters. In particular, the loss might oscillate while the player will start to win the games. You have to find a good criterium."
      ]
    },
    {
      "cell_type": "code",
      "metadata": {
        "id": "wBlKHLkV7a4L",
        "colab_type": "code",
        "colab": {}
      },
      "source": [
        "class DQN(Agent):\n",
        "    def __init__(self, grid_size,  epsilon=0.1, memory_size=100, batch_size=16, n_state=2):\n",
        "        super(DQN, self).__init__(epsilon = epsilon)\n",
        "\n",
        "        # Discount for Q learning\n",
        "        self.discount = 0.99\n",
        "        \n",
        "        self.grid_size = grid_size\n",
        "        # number of state\n",
        "        self.n_state = n_state\n",
        "        # Memory\n",
        "        self.memory = Memory(memory_size)\n",
        "        # Batch size when learning\n",
        "        self.batch_size = batch_size\n",
        "\n",
        "    def learned_act(self, s):\n",
        "        return np.argmax(self.model.predict(s[None]))\n",
        "\n",
        "    def reinforce(self, s_, next_s_, a_, r_, game_over_):\n",
        "        # Two steps: first memorize the states, second learn from the pool\n",
        "        self.memory.remember([s_, next_s_, a_, r_, game_over_])\n",
        "        \n",
        "        input_states = np.zeros((self.batch_size, 5, 5, self.n_state))\n",
        "        target_q     = np.zeros((self.batch_size, 4))\n",
        "        \n",
        "        for i in range(self.batch_size):\n",
        "            # Take a random batch from our buffer\n",
        "            s_, next_s_, a_, r_, game_over_ = self.memory.random_access()\n",
        "            # Store the current state and generate its state-action function\n",
        "            input_states[i], target_q[i]    = s_, self.model.predict(s_[None])\n",
        "            \n",
        "            #f For the action performed, set target q depending if the state is terminal or not\n",
        "            if game_over_:\n",
        "                target_q[i, a_] = r_\n",
        "            else:\n",
        "                ns_q = self.model.predict(next_s_[None])\n",
        "                target_q[i, a_] = r_ + self.discount*np.max(ns_q, axis = 1)\n",
        "\n",
        "        # HINT: Clip the target to avoid exploiding gradients.. -- clipping is a bit tighter\n",
        "        target_q = np.clip(target_q, -5, 5)\n",
        "        l = self.model.train_on_batch(input_states, target_q)\n",
        "        return l\n",
        "\n",
        "    def save(self,name_weights='model.h5',name_model='model.json'):\n",
        "        self.model.save_weights(name_weights, overwrite=True)\n",
        "        with open(name_model, \"w\") as outfile:\n",
        "            json.dump(self.model.to_json(), outfile)\n",
        "            \n",
        "    def load(self,name_weights='model.h5',name_model='model.json'):\n",
        "        with open(name_model, \"r\") as jfile:\n",
        "            model = model_from_json(json.load(jfile))\n",
        "        model.load_weights(name_weights)\n",
        "        model.compile(\"sgd\", \"mse\")\n",
        "        self.model = model\n",
        "         \n",
        "class DQN_FC(DQN):\n",
        "    def __init__(self, *args, lr=0.1,**kwargs):\n",
        "        super(DQN_FC, self).__init__( *args,**kwargs)\n",
        "        # NN Model\n",
        "        model = Sequential()\n",
        "        model.add(Flatten())\n",
        "        model.add(Dense(units = 32, input_shape=(5*5*self.n_state, ), activation= 'relu', kernel_regularizer = l2(1e-4)))\n",
        "        model.add(Dense(units = 4, input_shape=(5*5*self.n_state, ), kernel_regularizer = l2(1e-4)))\n",
        "        \n",
        "        model.compile(sgd(lr=lr, decay=1e-4, momentum=0.0), \"mse\")\n",
        "        self.model = model   "
      ],
      "execution_count": 0,
      "outputs": []
    },
    {
      "cell_type": "code",
      "metadata": {
        "id": "Fmd6YNDy7a4N",
        "colab_type": "code",
        "outputId": "e455a215-f4c4-4f82-a412-1337f27cac7f",
        "colab": {
          "base_uri": "https://localhost:8080/",
          "height": 1000
        }
      },
      "source": [
        "env   = Environment(grid_size=size, max_time=T, temperature=0.3)\n",
        "agent = DQN_FC(size, lr=.1, epsilon=.1, memory_size=2000, batch_size=32)\n",
        "train(agent, env, epochs_train, prefix='fc_train')\n",
        "HTML(display_videos('fc_train10.mp4'))"
      ],
      "execution_count": 0,
      "outputs": [
        {
          "output_type": "stream",
          "text": [
            "WARNING:tensorflow:From /usr/local/lib/python3.6/dist-packages/keras/backend/tensorflow_backend.py:66: The name tf.get_default_graph is deprecated. Please use tf.compat.v1.get_default_graph instead.\n",
            "\n",
            "WARNING:tensorflow:From /usr/local/lib/python3.6/dist-packages/keras/optimizers.py:793: The name tf.train.Optimizer is deprecated. Please use tf.compat.v1.train.Optimizer instead.\n",
            "\n",
            "WARNING:tensorflow:From /usr/local/lib/python3.6/dist-packages/keras/backend/tensorflow_backend.py:541: The name tf.placeholder is deprecated. Please use tf.compat.v1.placeholder instead.\n",
            "\n",
            "WARNING:tensorflow:From /usr/local/lib/python3.6/dist-packages/keras/backend/tensorflow_backend.py:4432: The name tf.random_uniform is deprecated. Please use tf.random.uniform instead.\n",
            "\n",
            "WARNING:tensorflow:From /usr/local/lib/python3.6/dist-packages/keras/backend/tensorflow_backend.py:3005: The name tf.Session is deprecated. Please use tf.compat.v1.Session instead.\n",
            "\n",
            "WARNING:tensorflow:From /usr/local/lib/python3.6/dist-packages/keras/backend/tensorflow_backend.py:190: The name tf.get_default_session is deprecated. Please use tf.compat.v1.get_default_session instead.\n",
            "\n",
            "WARNING:tensorflow:From /usr/local/lib/python3.6/dist-packages/keras/backend/tensorflow_backend.py:197: The name tf.ConfigProto is deprecated. Please use tf.compat.v1.ConfigProto instead.\n",
            "\n",
            "WARNING:tensorflow:From /usr/local/lib/python3.6/dist-packages/keras/backend/tensorflow_backend.py:207: The name tf.global_variables is deprecated. Please use tf.compat.v1.global_variables instead.\n",
            "\n",
            "WARNING:tensorflow:From /usr/local/lib/python3.6/dist-packages/keras/backend/tensorflow_backend.py:216: The name tf.is_variable_initialized is deprecated. Please use tf.compat.v1.is_variable_initialized instead.\n",
            "\n",
            "WARNING:tensorflow:From /usr/local/lib/python3.6/dist-packages/keras/backend/tensorflow_backend.py:223: The name tf.variables_initializer is deprecated. Please use tf.compat.v1.variables_initializer instead.\n",
            "\n",
            "WARNING:tensorflow:From /usr/local/lib/python3.6/dist-packages/keras/backend/tensorflow_backend.py:1033: The name tf.assign_add is deprecated. Please use tf.compat.v1.assign_add instead.\n",
            "\n",
            "WARNING:tensorflow:From /usr/local/lib/python3.6/dist-packages/keras/backend/tensorflow_backend.py:1020: The name tf.assign is deprecated. Please use tf.compat.v1.assign instead.\n",
            "\n",
            "Epoch 000/050 | Loss 0.0075 | Win/lose count 2.5/5.0 (-2.5)\n",
            "Epoch 001/050 | Loss 0.0070 | Win/lose count 0.5/4.0 (-3.5)\n",
            "Epoch 002/050 | Loss 0.0217 | Win/lose count 4.0/5.0 (-1.0)\n",
            "Epoch 003/050 | Loss 0.0142 | Win/lose count 7.0/5.0 (2.0)\n",
            "Epoch 004/050 | Loss 0.0215 | Win/lose count 6.0/3.0 (3.0)\n",
            "Epoch 005/050 | Loss 0.0472 | Win/lose count 8.0/6.0 (2.0)\n",
            "Epoch 006/050 | Loss 0.0272 | Win/lose count 0.5/5.0 (-4.5)\n",
            "Epoch 007/050 | Loss 0.0092 | Win/lose count 3.0/1.0 (2.0)\n",
            "Epoch 008/050 | Loss 0.0449 | Win/lose count 9.0/4.0 (5.0)\n",
            "Epoch 009/050 | Loss 0.0392 | Win/lose count 1.5/1.0 (0.5)\n",
            "Epoch 010/050 | Loss 0.0190 | Win/lose count 3.0/5.0 (-2.0)\n",
            "Epoch 011/050 | Loss 0.0182 | Win/lose count 2.5/2.0 (0.5)\n",
            "Epoch 012/050 | Loss 0.0164 | Win/lose count 3.0/3.0 (0.0)\n",
            "Epoch 013/050 | Loss 0.0154 | Win/lose count 6.5/1.0 (5.5)\n",
            "Epoch 014/050 | Loss 0.0128 | Win/lose count 6.5/8.0 (-1.5)\n",
            "Epoch 015/050 | Loss 0.0183 | Win/lose count 4.0/3.0 (1.0)\n",
            "Epoch 016/050 | Loss 0.0147 | Win/lose count 7.0/3.0 (4.0)\n",
            "Epoch 017/050 | Loss 0.1575 | Win/lose count 5.5/2.0 (3.5)\n",
            "Epoch 018/050 | Loss 0.0165 | Win/lose count 7.5/0 (7.5)\n",
            "Epoch 019/050 | Loss 0.0074 | Win/lose count 3.5/2.0 (1.5)\n",
            "Epoch 020/050 | Loss 0.0103 | Win/lose count 7.0/4.0 (3.0)\n",
            "Epoch 021/050 | Loss 0.0127 | Win/lose count 5.5/1.0 (4.5)\n",
            "Epoch 022/050 | Loss 0.0201 | Win/lose count 4.0/6.0 (-2.0)\n",
            "Epoch 023/050 | Loss 0.0117 | Win/lose count 6.0/4.0 (2.0)\n",
            "Epoch 024/050 | Loss 0.0094 | Win/lose count 8.0/2.0 (6.0)\n",
            "Epoch 025/050 | Loss 0.0116 | Win/lose count 7.0/4.0 (3.0)\n",
            "Epoch 026/050 | Loss 0.0080 | Win/lose count 8.5/3.0 (5.5)\n",
            "Epoch 027/050 | Loss 0.0087 | Win/lose count 5.0/7.0 (-2.0)\n",
            "Epoch 028/050 | Loss 0.0121 | Win/lose count 4.5/1.0 (3.5)\n",
            "Epoch 029/050 | Loss 0.0084 | Win/lose count 8.5/3.0 (5.5)\n",
            "Epoch 030/050 | Loss 0.0088 | Win/lose count 5.5/2.0 (3.5)\n",
            "Epoch 031/050 | Loss 0.1657 | Win/lose count 4.0/1.0 (3.0)\n",
            "Epoch 032/050 | Loss 0.0147 | Win/lose count 8.5/4.0 (4.5)\n",
            "Epoch 033/050 | Loss 0.0138 | Win/lose count 8.0/3.0 (5.0)\n",
            "Epoch 034/050 | Loss 0.0091 | Win/lose count 5.5/1.0 (4.5)\n",
            "Epoch 035/050 | Loss 0.0125 | Win/lose count 6.0/2.0 (4.0)\n",
            "Epoch 036/050 | Loss 0.0125 | Win/lose count 10.5/2.0 (8.5)\n",
            "Epoch 037/050 | Loss 0.0118 | Win/lose count 6.5/2.0 (4.5)\n",
            "Epoch 038/050 | Loss 0.0114 | Win/lose count 7.5/2.0 (5.5)\n",
            "Epoch 039/050 | Loss 0.0125 | Win/lose count 9.5/5.0 (4.5)\n",
            "Epoch 040/050 | Loss 0.0093 | Win/lose count 18.0/2.0 (16.0)\n",
            "Epoch 041/050 | Loss 0.0096 | Win/lose count 8.0/4.0 (4.0)\n",
            "Epoch 042/050 | Loss 0.0138 | Win/lose count 13.0/2.0 (11.0)\n",
            "Epoch 043/050 | Loss 0.0093 | Win/lose count 16.0/1.0 (15.0)\n",
            "Epoch 044/050 | Loss 0.0113 | Win/lose count 15.0/3.0 (12.0)\n",
            "Epoch 045/050 | Loss 0.0084 | Win/lose count 5.5/1.0 (4.5)\n",
            "Epoch 046/050 | Loss 0.0112 | Win/lose count 15.0/2.0 (13.0)\n",
            "Epoch 047/050 | Loss 0.0157 | Win/lose count 14.5/6.0 (8.5)\n",
            "Epoch 048/050 | Loss 0.0096 | Win/lose count 7.0/1.0 (6.0)\n",
            "Epoch 049/050 | Loss 0.0121 | Win/lose count 10.5/1.0 (9.5)\n"
          ],
          "name": "stdout"
        },
        {
          "output_type": "execute_result",
          "data": {
            "text/html": [
              "<video alt=\"test\" controls>\n",
              "                <source src=\"data:video/mp4;base64,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\" type=\"video/mp4\" />\n",
              "             </video>"
            ],
            "text/plain": [
              "<IPython.core.display.HTML object>"
            ]
          },
          "metadata": {
            "tags": []
          },
          "execution_count": 14
        }
      ]
    },
    {
      "cell_type": "markdown",
      "metadata": {
        "id": "xh9yqBr57a4O",
        "colab_type": "text"
      },
      "source": [
        "***\n",
        "***\n",
        "__Question 8__ Implement the DQN training algorithm using a CNN (for example, 2 convolutional layers and one final fully connected layer)."
      ]
    },
    {
      "cell_type": "code",
      "metadata": {
        "id": "ocmdzzRC7a4P",
        "colab_type": "code",
        "colab": {}
      },
      "source": [
        "class DQN_CNN(DQN):\n",
        "    def __init__(self, *args, lr=0.1, **kwargs):\n",
        "        super(DQN_CNN, self).__init__(*args, **kwargs)\n",
        "        \n",
        "        model = Sequential()\n",
        "        model.add(Conv2D(32, kernel_size=3, activation='relu', kernel_regularizer=l2(1e-4), input_shape=(5,5,self.n_state, )))\n",
        "        model.add(Conv2D(64, kernel_size=3, activation='relu', kernel_regularizer=l2(1e-4)))\n",
        "        model.add(Flatten())\n",
        "        model.add(Dense(units=4, kernel_regularizer=l2(1e-4)))\n",
        "        \n",
        "        model.compile(sgd(lr=lr, decay=1e-4, momentum=0.0), \"mse\")\n",
        "        self.model = model"
      ],
      "execution_count": 0,
      "outputs": []
    },
    {
      "cell_type": "code",
      "metadata": {
        "id": "sqMYxyh87a4R",
        "colab_type": "code",
        "outputId": "add59f75-b00a-4a1e-d516-ee85d777805b",
        "colab": {
          "base_uri": "https://localhost:8080/",
          "height": 1000
        }
      },
      "source": [
        "env = Environment(grid_size=size, max_time=T, temperature=0.3)\n",
        "agent = DQN_CNN(size, lr=.1, epsilon = 0.1, memory_size=2000, batch_size = 32)\n",
        "train(agent,env,epochs_train,prefix='cnn_train')\n",
        "HTML(display_videos('cnn_train10.mp4'))"
      ],
      "execution_count": 0,
      "outputs": [
        {
          "output_type": "stream",
          "text": [
            "Epoch 000/050 | Loss 0.0095 | Win/lose count 2.0/4.0 (-2.0)\n",
            "Epoch 001/050 | Loss 0.0119 | Win/lose count 6.0/4.0 (2.0)\n",
            "Epoch 002/050 | Loss 0.0098 | Win/lose count 1.5/5.0 (-3.5)\n",
            "Epoch 003/050 | Loss 0.0254 | Win/lose count 3.5/1.0 (2.5)\n",
            "Epoch 004/050 | Loss 0.0089 | Win/lose count 3.0/1.0 (2.0)\n",
            "Epoch 005/050 | Loss 0.0269 | Win/lose count 4.5/1.0 (3.5)\n",
            "Epoch 006/050 | Loss 0.0097 | Win/lose count 4.5/3.0 (1.5)\n",
            "Epoch 007/050 | Loss 0.1814 | Win/lose count 6.0/1.0 (5.0)\n",
            "Epoch 008/050 | Loss 0.0143 | Win/lose count 1.0/3.0 (-2.0)\n",
            "Epoch 009/050 | Loss 0.0078 | Win/lose count 2.5/2.0 (0.5)\n",
            "Epoch 010/050 | Loss 0.0085 | Win/lose count 3.5/2.0 (1.5)\n",
            "Epoch 011/050 | Loss 0.0078 | Win/lose count 3.5/3.0 (0.5)\n",
            "Epoch 012/050 | Loss 0.0075 | Win/lose count 5.5/2.0 (3.5)\n",
            "Epoch 013/050 | Loss 0.0073 | Win/lose count 2.5/1.0 (1.5)\n",
            "Epoch 014/050 | Loss 0.0084 | Win/lose count 5.5/3.0 (2.5)\n",
            "Epoch 015/050 | Loss 0.0077 | Win/lose count 8.5/0 (8.5)\n",
            "Epoch 016/050 | Loss 0.1581 | Win/lose count 5.5/2.0 (3.5)\n",
            "Epoch 017/050 | Loss 0.0107 | Win/lose count 2.5/2.0 (0.5)\n",
            "Epoch 018/050 | Loss 0.0081 | Win/lose count 7.0/1.0 (6.0)\n",
            "Epoch 019/050 | Loss 0.0079 | Win/lose count 5.5/1.0 (4.5)\n",
            "Epoch 020/050 | Loss 0.2537 | Win/lose count 4.5/3.0 (1.5)\n",
            "Epoch 021/050 | Loss 0.0092 | Win/lose count 7.5/3.0 (4.5)\n",
            "Epoch 022/050 | Loss 0.0096 | Win/lose count 5.5/1.0 (4.5)\n",
            "Epoch 023/050 | Loss 0.0100 | Win/lose count 6.0/4.0 (2.0)\n",
            "Epoch 024/050 | Loss 0.0071 | Win/lose count 9.5/1.0 (8.5)\n",
            "Epoch 025/050 | Loss 0.0090 | Win/lose count 19.0/3.0 (16.0)\n",
            "Epoch 026/050 | Loss 0.0064 | Win/lose count 16.0/1.0 (15.0)\n",
            "Epoch 027/050 | Loss 0.0073 | Win/lose count 18.0/1.0 (17.0)\n",
            "Epoch 028/050 | Loss 0.0066 | Win/lose count 11.5/1.0 (10.5)\n",
            "Epoch 029/050 | Loss 0.1725 | Win/lose count 10.5/2.0 (8.5)\n",
            "Epoch 030/050 | Loss 0.0077 | Win/lose count 4.5/0 (4.5)\n",
            "Epoch 031/050 | Loss 0.0095 | Win/lose count 14.0/1.0 (13.0)\n",
            "Epoch 032/050 | Loss 0.0080 | Win/lose count 17.5/3.0 (14.5)\n",
            "Epoch 033/050 | Loss 0.0133 | Win/lose count 9.0/5.0 (4.0)\n",
            "Epoch 034/050 | Loss 0.0122 | Win/lose count 20.5/3.0 (17.5)\n",
            "Epoch 035/050 | Loss 0.0120 | Win/lose count 6.5/0 (6.5)\n",
            "Epoch 036/050 | Loss 0.1433 | Win/lose count 24.5/2.0 (22.5)\n",
            "Epoch 037/050 | Loss 0.0139 | Win/lose count 16.0/4.0 (12.0)\n",
            "Epoch 038/050 | Loss 0.0064 | Win/lose count 10.5/2.0 (8.5)\n",
            "Epoch 039/050 | Loss 0.0079 | Win/lose count 18.0/2.0 (16.0)\n",
            "Epoch 040/050 | Loss 0.1611 | Win/lose count 7.5/5.0 (2.5)\n",
            "Epoch 041/050 | Loss 0.0077 | Win/lose count 18.0/1.0 (17.0)\n",
            "Epoch 042/050 | Loss 0.0162 | Win/lose count 20.5/5.0 (15.5)\n",
            "Epoch 043/050 | Loss 0.0094 | Win/lose count 20.0/1.0 (19.0)\n",
            "Epoch 044/050 | Loss 0.1621 | Win/lose count 20.0/2.0 (18.0)\n",
            "Epoch 045/050 | Loss 0.0109 | Win/lose count 11.0/3.0 (8.0)\n",
            "Epoch 046/050 | Loss 0.0086 | Win/lose count 17.5/4.0 (13.5)\n",
            "Epoch 047/050 | Loss 0.0086 | Win/lose count 11.5/2.0 (9.5)\n",
            "Epoch 048/050 | Loss 0.0073 | Win/lose count 9.0/2.0 (7.0)\n",
            "Epoch 049/050 | Loss 0.0136 | Win/lose count 22.5/1.0 (21.5)\n"
          ],
          "name": "stdout"
        },
        {
          "output_type": "execute_result",
          "data": {
            "text/html": [
              "<video alt=\"test\" controls>\n",
              "                <source src=\"data:video/mp4;base64,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\" type=\"video/mp4\" />\n",
              "             </video>"
            ],
            "text/plain": [
              "<IPython.core.display.HTML object>"
            ]
          },
          "metadata": {
            "tags": []
          },
          "execution_count": 16
        }
      ]
    },
    {
      "cell_type": "markdown",
      "metadata": {
        "id": "mjIFTpvT7a4U",
        "colab_type": "text"
      },
      "source": [
        "***\n",
        "***\n",
        "__Question 9__ Test both algorithms and compare their performances. Which issue(s) do you observe? Observe also different behaviors by changing the temperature."
      ]
    },
    {
      "cell_type": "code",
      "metadata": {
        "id": "0lLSn04T7a4U",
        "colab_type": "code",
        "outputId": "22cdb794-8226-46f0-cece-f0008a5f069f",
        "colab": {
          "base_uri": "https://localhost:8080/",
          "height": 1000
        }
      },
      "source": [
        "env = Environment(grid_size=size, max_time=T, temperature=0.3)         # We have set temperature to many values within [0.1, 0.9]\n",
        "agent_cnn = DQN_CNN(size, lr=.1, epsilon=.1, memory_size=2000, batch_size=32)\n",
        "agent_cnn.load(name_weights='cnn_trainmodel.h5',name_model='cnn_trainmodel.json')\n",
        "\n",
        "agent_fc = DQN_FC(size, lr=.1, epsilon=.1, memory_size=2000, batch_size=32)\n",
        "agent_fc.load(name_weights='fc_trainmodel.h5',name_model='fc_trainmodel.json')\n",
        "\n",
        "print('Test of the CNN')\n",
        "test(agent_cnn, env, epochs_test, prefix='cnn_test')\n",
        "print('Test of the FC')\n",
        "test(agent_fc, env, epochs_test, prefix='fc_test')"
      ],
      "execution_count": 0,
      "outputs": [
        {
          "output_type": "stream",
          "text": [
            "Test of the CNN\n",
            "Epoch 001/030 | Win/lose count 4.0/2.0 (2.0) | Average score 2.000\n",
            "Epoch 002/030 | Win/lose count 6.0/1.0 (5.0) | Average score 3.500\n",
            "Epoch 003/030 | Win/lose count 8.5/3.0 (5.5) | Average score 4.167\n",
            "Epoch 004/030 | Win/lose count 10.0/3.0 (7.0) | Average score 4.875\n",
            "Epoch 005/030 | Win/lose count 10.5/2.0 (8.5) | Average score 5.600\n",
            "Epoch 006/030 | Win/lose count 16.0/2.0 (14.0) | Average score 7.000\n",
            "Epoch 007/030 | Win/lose count 4.5/3.0 (1.5) | Average score 6.214\n",
            "Epoch 008/030 | Win/lose count 5.5/2.0 (3.5) | Average score 5.875\n",
            "Epoch 009/030 | Win/lose count 4.5/2.0 (2.5) | Average score 5.500\n",
            "Epoch 010/030 | Win/lose count 13.0/3.0 (10.0) | Average score 5.950\n",
            "Epoch 011/030 | Win/lose count 6.0/5.0 (1.0) | Average score 5.500\n",
            "Epoch 012/030 | Win/lose count 9.0/3.0 (6.0) | Average score 5.542\n",
            "Epoch 013/030 | Win/lose count 5.0/1.0 (4.0) | Average score 5.423\n",
            "Epoch 014/030 | Win/lose count 7.0/4.0 (3.0) | Average score 5.250\n",
            "Epoch 015/030 | Win/lose count 7.5/6.0 (1.5) | Average score 5.000\n",
            "Epoch 016/030 | Win/lose count 11.0/4.0 (7.0) | Average score 5.125\n",
            "Epoch 017/030 | Win/lose count 5.0/1.0 (4.0) | Average score 5.059\n",
            "Epoch 018/030 | Win/lose count 6.0/2.0 (4.0) | Average score 5.000\n",
            "Epoch 019/030 | Win/lose count 6.5/0 (6.5) | Average score 5.079\n",
            "Epoch 020/030 | Win/lose count 5.5/6.0 (-0.5) | Average score 4.800\n",
            "Epoch 021/030 | Win/lose count 6.5/5.0 (1.5) | Average score 4.643\n",
            "Epoch 022/030 | Win/lose count 5.0/3.0 (2.0) | Average score 4.523\n",
            "Epoch 023/030 | Win/lose count 16.0/2.0 (14.0) | Average score 4.935\n",
            "Epoch 024/030 | Win/lose count 9.5/4.0 (5.5) | Average score 4.958\n",
            "Epoch 025/030 | Win/lose count 9.5/4.0 (5.5) | Average score 4.980\n",
            "Epoch 026/030 | Win/lose count 0.5/0 (0.5) | Average score 4.808\n",
            "Epoch 027/030 | Win/lose count 7.0/1.0 (6.0) | Average score 4.852\n",
            "Epoch 028/030 | Win/lose count 4.0/1.0 (3.0) | Average score 4.786\n",
            "Epoch 029/030 | Win/lose count 5.0/3.0 (2.0) | Average score 4.690\n",
            "Epoch 030/030 | Win/lose count 9.5/1.0 (8.5) | Average score 4.817\n",
            "Final score: 4.816666666666666\n",
            "Test of the FC\n",
            "Epoch 001/030 | Win/lose count 18.0/3.0 (15.0) | Average score 15.000\n",
            "Epoch 002/030 | Win/lose count 13.0/5.0 (8.0) | Average score 11.500\n",
            "Epoch 003/030 | Win/lose count 2.5/1.0 (1.5) | Average score 8.167\n",
            "Epoch 004/030 | Win/lose count 5.0/0 (5.0) | Average score 7.375\n",
            "Epoch 005/030 | Win/lose count 13.0/1.0 (12.0) | Average score 8.300\n",
            "Epoch 006/030 | Win/lose count 12.0/1.0 (11.0) | Average score 8.750\n",
            "Epoch 007/030 | Win/lose count 2.5/1.0 (1.5) | Average score 7.714\n",
            "Epoch 008/030 | Win/lose count 24.0/6.0 (18.0) | Average score 9.000\n",
            "Epoch 009/030 | Win/lose count 9.5/1.0 (8.5) | Average score 8.944\n",
            "Epoch 010/030 | Win/lose count 11.5/3.0 (8.5) | Average score 8.900\n",
            "Epoch 011/030 | Win/lose count 21.0/1.0 (20.0) | Average score 9.909\n",
            "Epoch 012/030 | Win/lose count 13.0/3.0 (10.0) | Average score 9.917\n",
            "Epoch 013/030 | Win/lose count 8.5/2.0 (6.5) | Average score 9.654\n",
            "Epoch 014/030 | Win/lose count 6.0/1.0 (5.0) | Average score 9.321\n",
            "Epoch 015/030 | Win/lose count 4.5/2.0 (2.5) | Average score 8.867\n",
            "Epoch 016/030 | Win/lose count 8.0/6.0 (2.0) | Average score 8.438\n",
            "Epoch 017/030 | Win/lose count 14.0/0 (14.0) | Average score 8.765\n",
            "Epoch 018/030 | Win/lose count 13.5/1.0 (12.5) | Average score 8.972\n",
            "Epoch 019/030 | Win/lose count 15.5/3.0 (12.5) | Average score 9.158\n",
            "Epoch 020/030 | Win/lose count 6.0/2.0 (4.0) | Average score 8.900\n",
            "Epoch 021/030 | Win/lose count 11.5/2.0 (9.5) | Average score 8.929\n",
            "Epoch 022/030 | Win/lose count 17.0/3.0 (14.0) | Average score 9.159\n",
            "Epoch 023/030 | Win/lose count 4.0/1.0 (3.0) | Average score 8.891\n",
            "Epoch 024/030 | Win/lose count 13.5/3.0 (10.5) | Average score 8.958\n",
            "Epoch 025/030 | Win/lose count 9.0/2.0 (7.0) | Average score 8.880\n",
            "Epoch 026/030 | Win/lose count 16.5/3.0 (13.5) | Average score 9.058\n",
            "Epoch 027/030 | Win/lose count 5.5/1.0 (4.5) | Average score 8.889\n",
            "Epoch 028/030 | Win/lose count 17.5/4.0 (13.5) | Average score 9.054\n",
            "Epoch 029/030 | Win/lose count 7.0/5.0 (2.0) | Average score 8.810\n",
            "Epoch 030/030 | Win/lose count 14.0/4.0 (10.0) | Average score 8.850\n",
            "Final score: 8.85\n"
          ],
          "name": "stdout"
        }
      ]
    },
    {
      "cell_type": "code",
      "metadata": {
        "id": "KK3SjPno7a4W",
        "colab_type": "code",
        "outputId": "63d9b75a-23cc-4596-a9eb-5c2d8c625aa7",
        "colab": {
          "base_uri": "https://localhost:8080/",
          "height": 171
        }
      },
      "source": [
        "HTML(display_videos('cnn_test21.mp4'))"
      ],
      "execution_count": 0,
      "outputs": [
        {
          "output_type": "execute_result",
          "data": {
            "text/html": [
              "<video alt=\"test\" controls>\n",
              "                <source src=\"data:video/mp4;base64,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\" type=\"video/mp4\" />\n",
              "             </video>"
            ],
            "text/plain": [
              "<IPython.core.display.HTML object>"
            ]
          },
          "metadata": {
            "tags": []
          },
          "execution_count": 18
        }
      ]
    },
    {
      "cell_type": "code",
      "metadata": {
        "id": "9i7Nf3FD7a4Z",
        "colab_type": "code",
        "outputId": "0812c779-07b4-4629-9441-bef0526fec80",
        "colab": {
          "base_uri": "https://localhost:8080/",
          "height": 171
        }
      },
      "source": [
        "HTML(display_videos('fc_test21.mp4'))"
      ],
      "execution_count": 0,
      "outputs": [
        {
          "output_type": "execute_result",
          "data": {
            "text/html": [
              "<video alt=\"test\" controls>\n",
              "                <source src=\"data:video/mp4;base64,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\" type=\"video/mp4\" />\n",
              "             </video>"
            ],
            "text/plain": [
              "<IPython.core.display.HTML object>"
            ]
          },
          "metadata": {
            "tags": []
          },
          "execution_count": 19
        }
      ]
    },
    {
      "cell_type": "markdown",
      "metadata": {
        "id": "6tT4WckU7a4b",
        "colab_type": "text"
      },
      "source": [
        "__Comments__\n",
        "\n",
        "- We notice that the agent lacks of exploration of the grid and gets stuck when there is no positive reward within his reach.\n",
        "\n",
        "- Increasing temperature increases the number of positive rewards cells, which leads the agent to explore more since positive reward is most of the time within his visibility. Thus, the final average score gets higher."
      ]
    },
    {
      "cell_type": "markdown",
      "metadata": {
        "id": "Cl73IRLa7a4b",
        "colab_type": "text"
      },
      "source": [
        "***\n",
        "\n",
        "The algorithm tends to not explore the map which can be an issue. We propose two ideas in order to encourage exploration:\n",
        "1. Incorporating a decreasing $\\epsilon$-greedy exploration. You can use the method ```set_epsilon```\n",
        "2. Append via the environment a new state that describes if a cell has been visited or not\n",
        "\n",
        "***\n",
        "__Question 10__ Design a new ```train_explore``` function and environment class ```EnvironmentExploring``` to tackle the issue of exploration.\n",
        "\n"
      ]
    },
    {
      "cell_type": "code",
      "metadata": {
        "id": "syWpQfo97a4c",
        "colab_type": "code",
        "colab": {}
      },
      "source": [
        "def train_explore(agent, env, epoch, prefix=''):\n",
        "    # Number of won games\n",
        "    score = 0\n",
        "    loss  = 0\n",
        "    \n",
        "    #exponentially decreasing epsilon from init_eps to approximately 0.1 for each epoch\n",
        "    epsilon_init  = agent.epsilon\n",
        "    epsilon_final = 0.1\n",
        "    T = epoch/5.0\n",
        "    \n",
        "    for e in range(epoch):\n",
        "        # At each epoch, we restart to a fresh game and get the initial state\n",
        "        state = env.reset()\n",
        "        # This assumes that the games will terminate\n",
        "        game_over = False\n",
        "\n",
        "        win     = 0\n",
        "        lose    = 0\n",
        "        epsilon = (epsilon_init - epsilon_final) * np.exp(-e/T) + epsilon_final\n",
        "        \n",
        "        while not game_over:\n",
        "            # The agent performs an action\n",
        "            action = agent.act(state)\n",
        "\n",
        "            # Apply an action to the environment, get the next state, the reward and if the games end\n",
        "            previous_state = state\n",
        "            state, reward, game_over = env.act(action, train=True)\n",
        "\n",
        "            # Update the counters\n",
        "            if reward > 0:\n",
        "                win  = win + reward\n",
        "            if reward < 0:\n",
        "                lose = lose - reward\n",
        "\n",
        "            # Apply the reinforcement strategy\n",
        "            agent.set_epsilon(epsilon)\n",
        "            loss = agent.reinforce(previous_state, state, action, reward, game_over)\n",
        "      \n",
        "        # Save as a mp4\n",
        "        if (e + 1) % 10 == 0:\n",
        "            env.draw(prefix+str(e+1))\n",
        "\n",
        "        # Update stats\n",
        "        score += win - lose\n",
        "\n",
        "        print(\"Epoch {:03d}/{:03d} | Loss {:.4f} | Win/lose count {:.3f}/{:.3f} ({:.3f}), epsilon {:.3f}\".format(e, epoch, loss, win, lose, win-lose, epsilon))\n",
        "      \n",
        "    agent.save(name_weights=prefix+'model.h5',name_model=prefix+'model.json')\n",
        "    \n",
        "        \n",
        "class EnvironmentExploring(object):\n",
        "  \n",
        "    def __init__(self, grid_size=10, max_time=500, temperature=0.1):\n",
        "        grid_size = grid_size + 4\n",
        "        self.grid_size   = grid_size\n",
        "        self.max_time    = max_time\n",
        "        self.temperature = temperature\n",
        "\n",
        "        #board on which one plays\n",
        "        self.board    = np.zeros((grid_size,grid_size))\n",
        "        self.position = np.zeros((grid_size,grid_size))\n",
        "        self.malus_position = np.zeros((grid_size,grid_size))\n",
        "\n",
        "        # coordinate of the cat\n",
        "        self.x = 0\n",
        "        self.y = 1\n",
        "\n",
        "        # self time\n",
        "        self.t = 0\n",
        "\n",
        "        self.scale   = 16\n",
        "        self.to_draw = np.zeros((max_time+2, grid_size*self.scale, grid_size*self.scale, 3))\n",
        "\n",
        "    def draw(self,e):\n",
        "        skvideo.io.vwrite(str(e) + '.mp4', self.to_draw)\n",
        "\n",
        "    def get_frame(self,t):\n",
        "        b = np.zeros((self.grid_size, self.grid_size, 3)) + 128\n",
        "        b[self.board > 0, 0] = 256\n",
        "        b[self.board < 0, 2] = 256\n",
        "        b[self.x, self.y, :] = 256\n",
        "        b[-2:, :, :] = 0\n",
        "        b[:, -2:, :] = 0\n",
        "        b[:2, :, :]  = 0\n",
        "        b[:, :2, :]  = 0\n",
        "        \n",
        "        b = cv2.resize(b, None, fx=self.scale, fy=self.scale, interpolation=cv2.INTER_NEAREST)\n",
        "        self.to_draw[t,:,:,:] = b\n",
        "\n",
        "    def act(self, action, train = False):\n",
        "        \"\"\"This function returns the new state, reward and decides if the\n",
        "        game ends.\"\"\"\n",
        "\n",
        "        self.get_frame(int(self.t))\n",
        "\n",
        "        self.position = np.zeros((self.grid_size, self.grid_size))\n",
        "\n",
        "        self.position[0:2, :] = -1\n",
        "        self.position[:, 0:2] = -1\n",
        "        self.position[-2:, :] = -1\n",
        "        self.position[-2:, :] = -1\n",
        "\n",
        "        self.position[self.x, self.y] = 1\n",
        "        if action == 0:\n",
        "            if self.x == self.grid_size - 3:\n",
        "                self.x = self.x - 1\n",
        "            else:\n",
        "                self.x = self.x + 1\n",
        "        elif action == 1:\n",
        "            if self.x == 2:\n",
        "                self.x = self.x + 1\n",
        "            else:\n",
        "                self.x = self.x - 1\n",
        "        elif action == 2:\n",
        "            if self.y == self.grid_size - 3:\n",
        "                self.y = self.y - 1\n",
        "            else:\n",
        "                self.y = self.y + 1\n",
        "        elif action == 3:\n",
        "            if self.y == 2:\n",
        "                self.y = self.y + 1\n",
        "            else:\n",
        "                self.y = self.y - 1\n",
        "        else:\n",
        "            RuntimeError('Error: action not recognized')\n",
        "\n",
        "        self.t = self.t + 1\n",
        "        reward = 0\n",
        "        reward = self.board[self.x, self.y] - train * self.malus_position[self.x, self.y]\n",
        "        self.malus_position[self.x, self.y] = 0.1\n",
        "        \n",
        "        self.board[self.x, self.y] = 0\n",
        "        game_over = self.t > self.max_time\n",
        "        \n",
        "        state = np.concatenate((self.malus_position.reshape(self.grid_size, self.grid_size,1),\n",
        "                                self.board.reshape(self.grid_size, self.grid_size,1),\n",
        "                                self.position.reshape(self.grid_size, self.grid_size,1)),axis=2)\n",
        "\n",
        "        state = state[self.x - 2:self.x + 3, self.y - 2:self.y + 3, :]\n",
        "\n",
        "        return state, reward, game_over\n",
        "\n",
        "    def reset(self):\n",
        "        \"\"\"This function resets the game and returns the initial state\"\"\"\n",
        "\n",
        "        self.x = np.random.randint(3, self.grid_size-3, size=1)[0]\n",
        "        self.y = np.random.randint(3, self.grid_size-3, size=1)[0]\n",
        "\n",
        "\n",
        "        bonus = 0.5*np.random.binomial(1,self.temperature,size=self.grid_size**2)\n",
        "        bonus = bonus.reshape(self.grid_size,self.grid_size)\n",
        "\n",
        "        malus = -1.0*np.random.binomial(1,self.temperature,size=self.grid_size**2)\n",
        "        malus = malus.reshape(self.grid_size, self.grid_size)\n",
        "\n",
        "        self.to_draw = np.zeros((self.max_time+2, self.grid_size*self.scale, self.grid_size*self.scale, 3))\n",
        "\n",
        "        malus[bonus>0]=0\n",
        "\n",
        "        self.board = bonus + malus\n",
        "\n",
        "        self.position = np.zeros((self.grid_size, self.grid_size))\n",
        "        self.position[0:2, :] = -1\n",
        "        self.position[:, 0:2] = -1\n",
        "        self.position[-2:, :] = -1\n",
        "        self.position[-2:, :] = -1\n",
        "        self.board[self.x,self.y] = 0\n",
        "        self.t = 0\n",
        "        \n",
        "        self.malus_position = np.zeros((self.grid_size, self.grid_size))\n",
        "        self.malus_position[self.x, self.y] = 0.1\n",
        "\n",
        "        state = np.concatenate((self.malus_position.reshape(self.grid_size, self.grid_size,1),\n",
        "                                self.board.reshape(self.grid_size, self.grid_size,1),\n",
        "                                self.position.reshape(self.grid_size, self.grid_size,1)),axis=2)\n",
        "\n",
        "        state = state[self.x - 2:self.x + 3, self.y - 2:self.y + 3, :]\n",
        "        return state"
      ],
      "execution_count": 0,
      "outputs": []
    },
    {
      "cell_type": "code",
      "metadata": {
        "id": "Uf3QyhmZ7a4e",
        "colab_type": "code",
        "outputId": "68b80170-a1d6-4485-80ef-28c2a5ed6cfb",
        "colab": {
          "base_uri": "https://localhost:8080/",
          "height": 1000
        }
      },
      "source": [
        "# Training\n",
        "env = EnvironmentExploring(grid_size=size, max_time=T, temperature=0.3)\n",
        "agent = DQN_CNN(size, lr=.1, epsilon=.9, memory_size=2000, batch_size=32, n_state=3)\n",
        "train_explore(agent, env, epochs_train, prefix='cnn_train_explore')\n",
        "HTML(display_videos('cnn_train_explore10.mp4'))"
      ],
      "execution_count": 0,
      "outputs": [
        {
          "output_type": "stream",
          "text": [
            "Epoch 000/050 | Loss 0.0213 | Win/lose count 6.500/29.100 (-22.600), epsilon 0.900\n",
            "Epoch 001/050 | Loss 0.0092 | Win/lose count 9.000/19.800 (-10.800), epsilon 0.824\n",
            "Epoch 002/050 | Loss 0.0141 | Win/lose count 10.500/23.500 (-13.000), epsilon 0.755\n",
            "Epoch 003/050 | Loss 0.0162 | Win/lose count 14.000/23.600 (-9.600), epsilon 0.693\n",
            "Epoch 004/050 | Loss 0.0193 | Win/lose count 14.500/27.000 (-12.500), epsilon 0.636\n",
            "Epoch 005/050 | Loss 0.0168 | Win/lose count 15.500/25.200 (-9.700), epsilon 0.585\n",
            "Epoch 006/050 | Loss 0.0157 | Win/lose count 18.500/19.000 (-0.500), epsilon 0.539\n",
            "Epoch 007/050 | Loss 0.1616 | Win/lose count 13.500/23.600 (-10.100), epsilon 0.497\n",
            "Epoch 008/050 | Loss 0.0144 | Win/lose count 17.500/26.000 (-8.500), epsilon 0.459\n",
            "Epoch 009/050 | Loss 0.0111 | Win/lose count 16.500/25.500 (-9.000), epsilon 0.425\n",
            "Epoch 010/050 | Loss 0.0147 | Win/lose count 19.500/15.600 (3.900), epsilon 0.394\n",
            "Epoch 011/050 | Loss 0.0159 | Win/lose count 20.000/23.100 (-3.100), epsilon 0.366\n",
            "Epoch 012/050 | Loss 0.0220 | Win/lose count 17.500/18.500 (-1.000), epsilon 0.341\n",
            "Epoch 013/050 | Loss 0.0247 | Win/lose count 13.000/15.100 (-2.100), epsilon 0.318\n",
            "Epoch 014/050 | Loss 0.0158 | Win/lose count 24.500/15.400 (9.100), epsilon 0.297\n",
            "Epoch 015/050 | Loss 0.0158 | Win/lose count 19.000/17.400 (1.600), epsilon 0.279\n",
            "Epoch 016/050 | Loss 0.0177 | Win/lose count 13.000/21.800 (-8.800), epsilon 0.262\n",
            "Epoch 017/050 | Loss 0.0205 | Win/lose count 19.000/16.200 (2.800), epsilon 0.246\n",
            "Epoch 018/050 | Loss 0.0163 | Win/lose count 21.000/18.700 (2.300), epsilon 0.232\n",
            "Epoch 019/050 | Loss 0.1267 | Win/lose count 20.000/22.800 (-2.800), epsilon 0.220\n",
            "Epoch 020/050 | Loss 0.1427 | Win/lose count 19.500/16.000 (3.500), epsilon 0.208\n",
            "Epoch 021/050 | Loss 0.0180 | Win/lose count 18.500/16.000 (2.500), epsilon 0.198\n",
            "Epoch 022/050 | Loss 0.0143 | Win/lose count 22.500/17.000 (5.500), epsilon 0.189\n",
            "Epoch 023/050 | Loss 0.0190 | Win/lose count 23.500/13.700 (9.800), epsilon 0.180\n",
            "Epoch 024/050 | Loss 0.0257 | Win/lose count 20.500/13.100 (7.400), epsilon 0.173\n",
            "Epoch 025/050 | Loss 0.0178 | Win/lose count 14.500/16.700 (-2.200), epsilon 0.166\n",
            "Epoch 026/050 | Loss 0.0154 | Win/lose count 17.000/16.800 (0.200), epsilon 0.159\n",
            "Epoch 027/050 | Loss 0.3223 | Win/lose count 20.500/16.500 (4.000), epsilon 0.154\n",
            "Epoch 028/050 | Loss 0.0181 | Win/lose count 27.000/15.900 (11.100), epsilon 0.149\n",
            "Epoch 029/050 | Loss 0.1231 | Win/lose count 20.500/14.700 (5.800), epsilon 0.144\n",
            "Epoch 030/050 | Loss 0.0811 | Win/lose count 14.500/18.700 (-4.200), epsilon 0.140\n",
            "Epoch 031/050 | Loss 0.0194 | Win/lose count 17.000/16.100 (0.900), epsilon 0.136\n",
            "Epoch 032/050 | Loss 0.0217 | Win/lose count 26.000/15.000 (11.000), epsilon 0.133\n",
            "Epoch 033/050 | Loss 0.0281 | Win/lose count 18.000/14.300 (3.700), epsilon 0.130\n",
            "Epoch 034/050 | Loss 0.0211 | Win/lose count 20.500/17.400 (3.100), epsilon 0.127\n",
            "Epoch 035/050 | Loss 0.0192 | Win/lose count 18.000/19.900 (-1.900), epsilon 0.124\n",
            "Epoch 036/050 | Loss 0.0311 | Win/lose count 25.000/15.000 (10.000), epsilon 0.122\n",
            "Epoch 037/050 | Loss 0.0174 | Win/lose count 22.500/14.600 (7.900), epsilon 0.120\n",
            "Epoch 038/050 | Loss 0.0205 | Win/lose count 21.000/13.500 (7.500), epsilon 0.118\n",
            "Epoch 039/050 | Loss 0.0228 | Win/lose count 20.500/17.900 (2.600), epsilon 0.116\n",
            "Epoch 040/050 | Loss 0.0282 | Win/lose count 18.000/17.800 (0.200), epsilon 0.115\n",
            "Epoch 041/050 | Loss 0.0508 | Win/lose count 23.500/15.800 (7.700), epsilon 0.113\n",
            "Epoch 042/050 | Loss 0.0172 | Win/lose count 13.000/20.500 (-7.500), epsilon 0.112\n",
            "Epoch 043/050 | Loss 0.0239 | Win/lose count 14.000/17.900 (-3.900), epsilon 0.111\n",
            "Epoch 044/050 | Loss 0.0195 | Win/lose count 21.500/15.200 (6.300), epsilon 0.110\n",
            "Epoch 045/050 | Loss 0.0270 | Win/lose count 18.500/18.800 (-0.300), epsilon 0.109\n",
            "Epoch 046/050 | Loss 0.1075 | Win/lose count 20.000/15.100 (4.900), epsilon 0.108\n",
            "Epoch 047/050 | Loss 0.0344 | Win/lose count 26.500/10.500 (16.000), epsilon 0.107\n",
            "Epoch 048/050 | Loss 0.0270 | Win/lose count 17.000/18.600 (-1.600), epsilon 0.107\n",
            "Epoch 049/050 | Loss 0.0267 | Win/lose count 20.000/17.600 (2.400), epsilon 0.106\n"
          ],
          "name": "stdout"
        },
        {
          "output_type": "execute_result",
          "data": {
            "text/html": [
              "<video alt=\"test\" controls>\n",
              "                <source src=\"data:video/mp4;base64,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\" type=\"video/mp4\" />\n",
              "             </video>"
            ],
            "text/plain": [
              "<IPython.core.display.HTML object>"
            ]
          },
          "metadata": {
            "tags": []
          },
          "execution_count": 27
        }
      ]
    },
    {
      "cell_type": "code",
      "metadata": {
        "id": "cNx6O6287a4i",
        "colab_type": "code",
        "outputId": "81971ef5-9e5a-4031-da79-3952539ca7f7",
        "colab": {
          "base_uri": "https://localhost:8080/",
          "height": 698
        }
      },
      "source": [
        "# Evaluation\n",
        "test(agent, env, epochs_test, prefix='cnn_test_explore')\n",
        "HTML(display_videos('cnn_test_explore21.mp4'))"
      ],
      "execution_count": 0,
      "outputs": [
        {
          "output_type": "stream",
          "text": [
            "Epoch 001/030 | Win/lose count 18.0/5.0 (13.0) | Average score 13.000\n",
            "Epoch 002/030 | Win/lose count 15.0/5.0 (10.0) | Average score 11.500\n",
            "Epoch 003/030 | Win/lose count 25.5/3.0 (22.5) | Average score 15.167\n",
            "Epoch 004/030 | Win/lose count 13.5/3.0 (10.5) | Average score 14.000\n",
            "Epoch 005/030 | Win/lose count 18.0/6.0 (12.0) | Average score 13.600\n",
            "Epoch 006/030 | Win/lose count 16.5/4.0 (12.5) | Average score 13.417\n",
            "Epoch 007/030 | Win/lose count 13.5/3.0 (10.5) | Average score 13.000\n",
            "Epoch 008/030 | Win/lose count 14.5/4.0 (10.5) | Average score 12.688\n",
            "Epoch 009/030 | Win/lose count 24.5/4.0 (20.5) | Average score 13.556\n",
            "Epoch 010/030 | Win/lose count 18.5/6.0 (12.5) | Average score 13.450\n",
            "Epoch 011/030 | Win/lose count 11.5/6.0 (5.5) | Average score 12.727\n",
            "Epoch 012/030 | Win/lose count 19.0/9.0 (10.0) | Average score 12.500\n",
            "Epoch 013/030 | Win/lose count 18.5/2.0 (16.5) | Average score 12.808\n",
            "Epoch 014/030 | Win/lose count 12.5/5.0 (7.5) | Average score 12.429\n",
            "Epoch 015/030 | Win/lose count 6.5/0 (6.5) | Average score 12.033\n",
            "Epoch 016/030 | Win/lose count 16.0/6.0 (10.0) | Average score 11.906\n",
            "Epoch 017/030 | Win/lose count 15.0/2.0 (13.0) | Average score 11.971\n",
            "Epoch 018/030 | Win/lose count 19.0/3.0 (16.0) | Average score 12.194\n",
            "Epoch 019/030 | Win/lose count 14.5/3.0 (11.5) | Average score 12.158\n",
            "Epoch 020/030 | Win/lose count 22.5/4.0 (18.5) | Average score 12.475\n",
            "Epoch 021/030 | Win/lose count 14.5/5.0 (9.5) | Average score 12.333\n",
            "Epoch 022/030 | Win/lose count 14.5/3.0 (11.5) | Average score 12.295\n",
            "Epoch 023/030 | Win/lose count 21.0/8.0 (13.0) | Average score 12.326\n",
            "Epoch 024/030 | Win/lose count 19.5/4.0 (15.5) | Average score 12.458\n",
            "Epoch 025/030 | Win/lose count 18.5/6.0 (12.5) | Average score 12.460\n",
            "Epoch 026/030 | Win/lose count 15.5/5.0 (10.5) | Average score 12.385\n",
            "Epoch 027/030 | Win/lose count 14.0/3.0 (11.0) | Average score 12.333\n",
            "Epoch 028/030 | Win/lose count 15.0/3.0 (12.0) | Average score 12.321\n",
            "Epoch 029/030 | Win/lose count 15.0/3.0 (12.0) | Average score 12.310\n",
            "Epoch 030/030 | Win/lose count 11.0/2.0 (9.0) | Average score 12.200\n",
            "Final score: 12.2\n"
          ],
          "name": "stdout"
        },
        {
          "output_type": "execute_result",
          "data": {
            "text/html": [
              "<video alt=\"test\" controls>\n",
              "                <source src=\"data:video/mp4;base64,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\" type=\"video/mp4\" />\n",
              "             </video>"
            ],
            "text/plain": [
              "<IPython.core.display.HTML object>"
            ]
          },
          "metadata": {
            "tags": []
          },
          "execution_count": 29
        }
      ]
    },
    {
      "cell_type": "markdown",
      "metadata": {
        "id": "YIscnsRY7a4j",
        "colab_type": "text"
      },
      "source": [
        "***\n",
        "***\n",
        "__BONUS question__ Use the expert DQN from the previous question to generate some winning games. Train a model that mimicks its behavior. Compare the performances."
      ]
    },
    {
      "cell_type": "markdown",
      "metadata": {
        "id": "ATQnSfCp7a4j",
        "colab_type": "text"
      },
      "source": [
        ""
      ]
    },
    {
      "cell_type": "markdown",
      "metadata": {
        "id": "Ha8oNKhZ7a4k",
        "colab_type": "text"
      },
      "source": [
        "***"
      ]
    }
  ]
}